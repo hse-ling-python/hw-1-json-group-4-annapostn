{
 "cells": [
  {
   "cell_type": "markdown",
   "metadata": {},
   "source": [
    "# Домашнее задание №1"
   ]
  },
  {
   "cell_type": "markdown",
   "metadata": {},
   "source": [
    "### Постникова Анна, БКЛ-184"
   ]
  },
  {
   "cell_type": "markdown",
   "metadata": {},
   "source": [
    "#### Подготовка\n",
    "###### Импортирую необходимые модули"
   ]
  },
  {
   "cell_type": "code",
   "execution_count": 89,
   "metadata": {},
   "outputs": [],
   "source": [
    "import json\n",
    "import  collections"
   ]
  },
  {
   "cell_type": "markdown",
   "metadata": {},
   "source": [
    "##### Функция, открывающая файл"
   ]
  },
  {
   "cell_type": "code",
   "execution_count": 90,
   "metadata": {},
   "outputs": [],
   "source": [
    "def opening():\n",
    "    filename = 'hw_3_twitter.json'\n",
    "    with open(filename, encoding='utf-8') as f:\n",
    "        text = f.readlines()\n",
    "    return text"
   ]
  },
  {
   "cell_type": "markdown",
   "metadata": {},
   "source": [
    "##### Фунцкия, декодирующая файл"
   ]
  },
  {
   "cell_type": "code",
   "execution_count": 91,
   "metadata": {},
   "outputs": [],
   "source": [
    "def decoding(text):\n",
    "    dct = []\n",
    "    for str in text:\n",
    "        x = json.loads(str)\n",
    "        dct.append(x)\n",
    "    return dct"
   ]
  },
  {
   "cell_type": "markdown",
   "metadata": {},
   "source": [
    "#### Задание 1"
   ]
  },
  {
   "cell_type": "markdown",
   "metadata": {},
   "source": [
    "##### Достаточно просто посчитать количество строк в файле"
   ]
  },
  {
   "cell_type": "code",
   "execution_count": 106,
   "metadata": {},
   "outputs": [
    {
     "ename": "FileNotFoundError",
     "evalue": "[Errno 2] No such file or directory: 'hw_3_twitter.json'",
     "output_type": "error",
     "traceback": [
      "\u001b[1;31m---------------------------------------------------------------------------\u001b[0m",
      "\u001b[1;31mFileNotFoundError\u001b[0m                         Traceback (most recent call last)",
      "\u001b[1;32m<ipython-input-106-027d18121aab>\u001b[0m in \u001b[0;36m<module>\u001b[1;34m\u001b[0m\n\u001b[1;32m----> 1\u001b[1;33m \u001b[0mtext\u001b[0m \u001b[1;33m=\u001b[0m \u001b[0mopening\u001b[0m\u001b[1;33m(\u001b[0m\u001b[1;33m)\u001b[0m\u001b[1;33m\u001b[0m\u001b[1;33m\u001b[0m\u001b[0m\n\u001b[0m\u001b[0;32m      2\u001b[0m \u001b[0mdictionary\u001b[0m \u001b[1;33m=\u001b[0m \u001b[0mdecoding\u001b[0m\u001b[1;33m(\u001b[0m\u001b[0mtext\u001b[0m\u001b[1;33m)\u001b[0m\u001b[1;33m\u001b[0m\u001b[1;33m\u001b[0m\u001b[0m\n\u001b[0;32m      3\u001b[0m \u001b[0mex_1\u001b[0m \u001b[1;33m=\u001b[0m \u001b[0mlen\u001b[0m\u001b[1;33m(\u001b[0m\u001b[0mdictionary\u001b[0m\u001b[1;33m)\u001b[0m\u001b[1;33m\u001b[0m\u001b[1;33m\u001b[0m\u001b[0m\n\u001b[0;32m      4\u001b[0m \u001b[0mprint\u001b[0m\u001b[1;33m(\u001b[0m\u001b[1;34m'Количество твитов в наборе: '\u001b[0m\u001b[1;33m,\u001b[0m \u001b[0mex_1\u001b[0m\u001b[1;33m)\u001b[0m\u001b[1;33m\u001b[0m\u001b[1;33m\u001b[0m\u001b[0m\n",
      "\u001b[1;32m<ipython-input-90-1bbab82b5334>\u001b[0m in \u001b[0;36mopening\u001b[1;34m()\u001b[0m\n\u001b[0;32m      1\u001b[0m \u001b[1;32mdef\u001b[0m \u001b[0mopening\u001b[0m\u001b[1;33m(\u001b[0m\u001b[1;33m)\u001b[0m\u001b[1;33m:\u001b[0m\u001b[1;33m\u001b[0m\u001b[1;33m\u001b[0m\u001b[0m\n\u001b[0;32m      2\u001b[0m     \u001b[0mfilename\u001b[0m \u001b[1;33m=\u001b[0m \u001b[1;34m'hw_3_twitter.json'\u001b[0m\u001b[1;33m\u001b[0m\u001b[1;33m\u001b[0m\u001b[0m\n\u001b[1;32m----> 3\u001b[1;33m     \u001b[1;32mwith\u001b[0m \u001b[0mopen\u001b[0m\u001b[1;33m(\u001b[0m\u001b[0mfilename\u001b[0m\u001b[1;33m,\u001b[0m \u001b[0mencoding\u001b[0m\u001b[1;33m=\u001b[0m\u001b[1;34m'utf-8'\u001b[0m\u001b[1;33m)\u001b[0m \u001b[1;32mas\u001b[0m \u001b[0mf\u001b[0m\u001b[1;33m:\u001b[0m\u001b[1;33m\u001b[0m\u001b[1;33m\u001b[0m\u001b[0m\n\u001b[0m\u001b[0;32m      4\u001b[0m         \u001b[0mtext\u001b[0m \u001b[1;33m=\u001b[0m \u001b[0mf\u001b[0m\u001b[1;33m.\u001b[0m\u001b[0mreadlines\u001b[0m\u001b[1;33m(\u001b[0m\u001b[1;33m)\u001b[0m\u001b[1;33m\u001b[0m\u001b[1;33m\u001b[0m\u001b[0m\n\u001b[0;32m      5\u001b[0m     \u001b[1;32mreturn\u001b[0m \u001b[0mtext\u001b[0m\u001b[1;33m\u001b[0m\u001b[1;33m\u001b[0m\u001b[0m\n",
      "\u001b[1;31mFileNotFoundError\u001b[0m: [Errno 2] No such file or directory: 'hw_3_twitter.json'"
     ]
    }
   ],
   "source": [
    "text = opening()\n",
    "dictionary = decoding(text)\n",
    "ex_1 = len(dictionary)\n",
    "print('Количество твитов в наборе: ', ex_1)"
   ]
  },
  {
   "cell_type": "markdown",
   "metadata": {},
   "source": [
    "#### Задание 2"
   ]
  },
  {
   "cell_type": "markdown",
   "metadata": {},
   "source": [
    "##### Функция находит и считает количество удаленных твитов"
   ]
  },
  {
   "cell_type": "code",
   "execution_count": 93,
   "metadata": {},
   "outputs": [],
   "source": [
    "def deleted(dictionary, text):\n",
    "    number = len(text)\n",
    "    deltw = []\n",
    "    for string in dictionary:\n",
    "        try:\n",
    "            deltw.append(string[\"delete\"])\n",
    "        except KeyError:\n",
    "            pass\n",
    "    return deltw"
   ]
  },
  {
   "cell_type": "markdown",
   "metadata": {},
   "source": [
    "##### Нахожу процент удаленных твитов от общего числа"
   ]
  },
  {
   "cell_type": "code",
   "execution_count": 94,
   "metadata": {},
   "outputs": [
    {
     "name": "stdout",
     "output_type": "stream",
     "text": [
      "Процент удаленных твитов: 14.162754303599373\n"
     ]
    }
   ],
   "source": [
    "ex_2 = deleted(dictionary, text)\n",
    "print('Процент удаленных твитов:', len(ex_2) / len(text) * 100)"
   ]
  },
  {
   "cell_type": "markdown",
   "metadata": {},
   "source": [
    "#### Задание 3"
   ]
  },
  {
   "cell_type": "markdown",
   "metadata": {},
   "source": [
    "##### Функция находит все языки, на которых написаны твиты, и выбирает 10 самых популярных из них"
   ]
  },
  {
   "cell_type": "code",
   "execution_count": 95,
   "metadata": {},
   "outputs": [],
   "source": [
    "def languages(dictionary):\n",
    "    langs = []\n",
    "    for string in dictionary:\n",
    "        try:\n",
    "            langs.append(string[\"lang\"])\n",
    "        except KeyError:\n",
    "            pass\n",
    "    poplang = {}\n",
    "    for y in langs:\n",
    "        try:\n",
    "            poplang[y] += 1\n",
    "        except KeyError:\n",
    "            poplang[y] = 1\n",
    "    poplangs = collections.Counter(poplang).most_common(10)\n",
    "    return poplangs"
   ]
  },
  {
   "cell_type": "markdown",
   "metadata": {},
   "source": [
    "##### Запускаю функцию и вывожу топ-5 языков"
   ]
  },
  {
   "cell_type": "code",
   "execution_count": 96,
   "metadata": {},
   "outputs": [
    {
     "name": "stdout",
     "output_type": "stream",
     "text": [
      "Топ-10 самых популярных языков твитов:\n",
      "en - 719 твит(а/ов).\n",
      "ja - 438 твит(а/ов).\n",
      "es - 173 твит(а/ов).\n",
      "ko - 149 твит(а/ов).\n",
      "th - 123 твит(а/ов).\n",
      "ar - 119 твит(а/ов).\n",
      "und - 117 твит(а/ов).\n",
      "in - 71 твит(а/ов).\n",
      "pt - 69 твит(а/ов).\n",
      "fr - 35 твит(а/ов).\n"
     ]
    }
   ],
   "source": [
    "ex_3 = languages(dictionary)\n",
    "print('Топ-10 самых популярных языков твитов:')\n",
    "for el in ex_3:\n",
    "    print(el[0], '-', el[1], 'твит(а/ов).')"
   ]
  },
  {
   "cell_type": "markdown",
   "metadata": {},
   "source": [
    "#### Задание 4"
   ]
  },
  {
   "cell_type": "markdown",
   "metadata": {},
   "source": [
    "##### Функция вычленяет имена всех пользователей, а затем считает, сколько раз упоминалось то или иное имя. Таким образом можно узнать, сколько твитов написал каждый пользователь"
   ]
  },
  {
   "cell_type": "code",
   "execution_count": 97,
   "metadata": {},
   "outputs": [],
   "source": [
    "def users(dictionary):\n",
    "    users = {}\n",
    "    for string in dictionary:\n",
    "        try:\n",
    "            try:\n",
    "                us = string[\"user\"]\n",
    "                users[us[\"screen_name\"]] += 1\n",
    "            except KeyError:\n",
    "                us = string[\"user\"]\n",
    "                users[us[\"screen_name\"]] = 1\n",
    "        except KeyError:\n",
    "            pass\n",
    "    users2 = {}\n",
    "    for el in users:\n",
    "        if users[el] > 1:\n",
    "            users2[el] = users[el]\n",
    "    return len(users2)"
   ]
  },
  {
   "cell_type": "markdown",
   "metadata": {},
   "source": [
    "##### Запускаю функцию и вывожу результат"
   ]
  },
  {
   "cell_type": "code",
   "execution_count": 98,
   "metadata": {},
   "outputs": [
    {
     "name": "stdout",
     "output_type": "stream",
     "text": [
      "Больше одного твита у 25 пользователя(ей).\n"
     ]
    }
   ],
   "source": [
    "ex_4 = users(dictionary)\n",
    "print('Больше одного твита у', ex_4, 'пользователя(ей).')"
   ]
  },
  {
   "cell_type": "markdown",
   "metadata": {},
   "source": [
    "#### Задание 5"
   ]
  },
  {
   "cell_type": "markdown",
   "metadata": {},
   "source": [
    "###### Функция находит использованные хэштэги и выбирает 20 самых популярных"
   ]
  },
  {
   "cell_type": "code",
   "execution_count": 99,
   "metadata": {},
   "outputs": [],
   "source": [
    "def hashtags(dictionary):\n",
    "    has = []\n",
    "    for el in dictionary:\n",
    "        try:\n",
    "            tags = el[\"entities\"]\n",
    "            has.append(tags[\"hashtags\"])\n",
    "        except KeyError:\n",
    "            pass\n",
    "    has = [x for x in has if x]\n",
    "    txt = []\n",
    "    for x in has:\n",
    "        try:\n",
    "            x = x[0]\n",
    "            txt.append(x[\"text\"])\n",
    "        except KeyError:\n",
    "            pass\n",
    "    hash = {}\n",
    "    for y in txt:\n",
    "        try:\n",
    "            hash[y] += 1\n",
    "        except KeyError:\n",
    "            hash[y] = 1\n",
    "    twenty = collections.Counter(hash).most_common(20)\n",
    "    return twenty"
   ]
  },
  {
   "cell_type": "markdown",
   "metadata": {},
   "source": [
    "##### Запускаю функцию и привожу данные к удобному для просмотра формату"
   ]
  },
  {
   "cell_type": "code",
   "execution_count": 100,
   "metadata": {},
   "outputs": [
    {
     "name": "stdout",
     "output_type": "stream",
     "text": [
      "Топ-20 самых популярных хэштэгов:\n",
      "AMAs - упоминается 10 раз(а).\n",
      "人気投票ガチャ - упоминается 7 раз(а).\n",
      "오늘의방탄 - упоминается 5 раз(а).\n",
      "뷔 - упоминается 5 раз(а).\n",
      "PledgeForSwachhBharat - упоминается 5 раз(а).\n",
      "BTS - упоминается 4 раз(а).\n",
      "방탄소년단 - упоминается 4 раз(а).\n",
      "MPN - упоминается 4 раз(а).\n",
      "เป๊กผลิตโชค - упоминается 3 раз(а).\n",
      "WajahmuPlastik - упоминается 3 раз(а).\n",
      "태형 - упоминается 2 раз(а).\n",
      "JYPpleaseprotectmyBamBam - упоминается 2 раз(а).\n",
      "マラソン - упоминается 2 раз(а).\n",
      "ALDUBNationStayUnited - упоминается 2 раз(а).\n",
      "비투비 - упоминается 2 раз(а).\n",
      "WildCard - упоминается 2 раз(а).\n",
      "BTSLoveYourselfTour - упоминается 2 раз(а).\n",
      "LOVE_YOURSELF - упоминается 2 раз(а).\n",
      "ฟ่านปิงปิง - упоминается 2 раз(а).\n",
      "PCAs - упоминается 2 раз(а).\n"
     ]
    }
   ],
   "source": [
    "ex_5 = hashtags(dictionary)\n",
    "print('Топ-20 самых популярных хэштэгов:')\n",
    "for el in ex_5:\n",
    "    print(el[0], '- упоминается', el[1], 'раз(а).')"
   ]
  },
  {
   "cell_type": "markdown",
   "metadata": {},
   "source": [
    "#### Задание 6"
   ]
  },
  {
   "cell_type": "markdown",
   "metadata": {},
   "source": [
    "##### Функции чистят строку от знаков препинаний и приводят все символы к нижнему регистру"
   ]
  },
  {
   "cell_type": "code",
   "execution_count": 101,
   "metadata": {},
   "outputs": [],
   "source": [
    "def clear_text(text, trash_tokens):\n",
    "    text = text.strip(trash_tokens)\n",
    "    return text\n",
    "\n",
    "\n",
    "def cleaning(text):\n",
    "    tokens = text.split()\n",
    "    trash_tokens = ',./?|\\\\!@#$%^&*()}[]—-_=+:;'\n",
    "    good_tokens = []\n",
    "    for token in tokens:\n",
    "        clean_token = clear_text(token, trash_tokens)\n",
    "        if clean_token != '':\n",
    "            clean_token = clean_token.lower()\n",
    "            good_tokens.append(clean_token)\n",
    "    return good_tokens"
   ]
  },
  {
   "cell_type": "markdown",
   "metadata": {},
   "source": [
    "##### Функция находит тексты твитов и составляет частотный словарь"
   ]
  },
  {
   "cell_type": "code",
   "execution_count": 102,
   "metadata": {},
   "outputs": [],
   "source": [
    "def english(dictionary):\n",
    "    endict = []\n",
    "    for string in dictionary:\n",
    "        try:\n",
    "            if string[\"lang\"] == \"en\":\n",
    "                endict.append(string[\"text\"])\n",
    "        except KeyError:\n",
    "            pass\n",
    "    endict = ' '.join(endict)\n",
    "    endict = cleaning(endict)\n",
    "    endict2 = {}\n",
    "    for word in endict:\n",
    "        try:\n",
    "            endict2[word] += 1\n",
    "        except KeyError:\n",
    "            endict2[word] = 1\n",
    "    return endict2"
   ]
  },
  {
   "cell_type": "markdown",
   "metadata": {},
   "source": [
    "##### Выведу результат"
   ]
  },
  {
   "cell_type": "code",
   "execution_count": 103,
   "metadata": {},
   "outputs": [
    {
     "name": "stdout",
     "output_type": "stream",
     "text": [
      "Частотный словарь:  {'rt': 394, 'elissesifieds': 2, 'nothing': 5, 'can': 21, 'stop': 5, 'us': 8, 'from': 28, 'supporting': 1, 'you': 137, 'when': 31, 'we': 34, 'say': 7, 'all': 33, 'the': 265, 'way': 12, 'it': 74, 'will': 19, 'be': 56, 'indeed': 1, 'hello': 1, 'cebu': 1, 'thank': 8, 'yo…': 1, 'riverdalencisla': 1, 'i': 155, 'vote': 8, 'for': 97, 'shadowhunters': 1, 'theshow': 1, 'of': 115, '2018': 7, 'in': 107, 'e': 4, 'people’s': 1, 'choice': 2, 'awards': 1, 'pcas': 2, 'saveshadowhunters🌟': 1, 'corruptedray001': 1, 'don’t': 14, 'try': 3, 'coming': 6, 'around': 5, 'no': 20, 'longer': 2, 'want': 15, 'u': 13, 'tatolote': 1, 'higher': 3, 'than': 8, '600': 1, 'ahmedtwinkiee': 1, 'send': 1, 'her': 18, 'back': 12, 'pics': 1, 'https://t.co/pkye51rzna': 1, 'time': 21, 'to': 185, 'think': 10, 'about': 28, 'what': 39, 'toys': 2, \"you'll\": 3, 'getting': 6, 'your': 28, 'kids': 4, 'this': 90, 'christmas': 1, 'here': 7, 'are': 47, 'our': 19, 'top': 3, 'picks!…': 1, 'https://t.co/bg7jq6ap6d': 1, 'naveedajamali': 1, 'a': 157, 'background': 2, 'investigation': 3, 'means': 2, 'that': 66, 'things': 10, 'said': 8, 'by': 27, 'those': 1, 'interviewed': 1, 'exist': 1, 'without': 6, 'any': 12, 'assessment': 1, 'thei…': 1, 'know': 18, 'sharing': 1, 'videos': 2, 'is': 124, 'essential': 1, 'digital': 1, 'strategy': 2, 'might': 3, 'wondering': 2, 'why': 11, 'artic…': 1, 'https://t.co/qrhgs3mfib': 1, 'aesels': 1, \"i'm\": 14, 'actually': 4, 'tired': 5, 'bro': 3, 'like': 37, 'bottom': 1, 'my': 76, 'heart': 8, 'am': 4, 'jellyflavor': 1, 'traditional': 1, 'art': 3, 'so': 42, 'stressful': 1, 'omg': 4, 'https://t.co/ha3mqkkjqd': 1, 'mollyday15': 1, 'maybe': 4, 'ashamed': 1, 'but': 30, 'guilty': 3, 'fleeingscenedui': 1, 'demeaningwomen': 1, 'at': 37, 'columbia': 1, 'should': 7, 'woman': 1, 'badbeto': 1, 'it’s': 21, 'not': 28, 'h…': 2, 'nat_olivas': 1, '3': 10, 'part': 6, 'series🌟': 1, 'https://t.co/j7digavatd': 1, 'ashramkolkata': 1, 'asarambapuji': 1, 'spirituality_by_rishidarshan': 1, 'wonderful': 2, 'gem': 1, 'which': 4, 'keeps': 1, 'close': 1, 'sant': 1, 'shri': 1, 'asaram': 1, 'bapu': 1, 'ji': 4, 'provi…': 1, 'mccalls': 1, 'm6313': 1, 'childrens': 1, 'and': 138, 'girls': 5, 'tops': 1, 'dress': 1, 'belt': 2, 'ruffle': 1, 'jeans': 1, 'sz': 1, 'cl': 1, '6': 5, '7': 4, '8': 4, 'https://t.co/op9yc1urq9': 1, 'ebay…': 1, 'https://t.co/dtmyznyyam': 1, 'well': 4, 'shit': 12, 'can’t': 12, 'wait': 5, 'return': 1, 'australia': 1, 'tickets/info': 1, 'https://t.co/dm8ymwanig': 1, 'https://t.co/hrldk5kiw0': 1, 'sometimes': 2, 'love': 27, 'problematic': 1, 'abcblackcomedy': 1, 'continues': 1, 'tonight': 2, '9:30pm': 1, 'on': 53, 'abc': 1, 'tv': 3, 'or': 18, 'get': 27, 'cheeky': 1, 'afte…': 1, 'https://t.co/z1dmb1jlx7': 1, 'finance': 1, 'employment': 1, 'personal': 2, 'issues': 1, 'letting': 1, 'good': 15, 'night': 6, 'sleep': 4, 'worry': 1, 'more': 25, 'free': 9, 'expert': 1, 'consu…': 1, 'https://t.co/avroxpcco7': 1, 'looking': 6, 'exercise': 1, 'worrying': 2, 'breakouts': 1, 'rashes': 1, 'check': 4, 'out': 17, 'these': 8, 'tips': 2, 'tricks': 1, 'care': 3, 'your…': 1, 'https://t.co/gyys9mndmd': 1, 'always': 11, 'giving': 1, 'preference.”': 1, 'bleacherreport': 1, 'excuses': 4, '28-year-old': 1, 'ghanaian': 1, 'bodybuilder': 1, 'built': 3, 'his': 16, 'gym': 1, 'equipment': 1, 'scrap': 1, 'metal': 1, 'concrete': 1, 'https://t.co/o…': 1, 'https://t.co/pvn7mxhx1u': 1, '14:00:01': 1, 'up': 20, '717': 1, 'days': 9, '21:39': 1, '1': 13, 'user': 1, 'load': 1, 'average': 1, '1.52': 1, '1.66': 1, '1.72': 1, '50.0°c': 1, 'current': 2, 'btc': 1, 'price': 2, '6,423.75': 1, '24h': 2, 'change': 2, '2.30': 1, 'volume': 1, '39,839,710.6': 1, 'marketcap': 1, 'is…': 2, 'https://t.co/ssazdfdl3k': 1, 'taeilthetic': 1, 'supposed': 1, 'compliment': 1, 'obrigada': 1, '😂': 2, 'shreyamehra20': 1, '32': 1, 'mega': 1, 'cleanliness': 1, 'campaign': 1, 'various': 1, 'cities': 2, 'save': 1, 'people': 17, 'diseases': 1, 'inspiring': 2, 'clean': 1, 'surroundings': 1, '…': 4, 'its': 7, 'october': 8, '3rd': 2, 'yungriix': 1, 'mine': 1, 'looked': 2, 'disastrous': 1, 'band': 1, 'has': 15, 'peeps': 1, 'could': 8, 'pandey_tisha': 1, 'morning': 4, 'flabs1234': 2, 'spooky': 3, 'szn': 2, 'https://t.co/oh1me2spzs': 2, 'domminyoongi': 1, 'imagine': 3, 'yoongi': 2, 'jimin': 2, 'holding': 4, 'hands': 3, 'walking': 3, 'down': 4, 'streets': 1, 'some': 14, 'guys': 9, 'walks': 2, 'literally': 4, 'turn': 3, 'heads': 1, 'stare…': 1, 'tswiftnz': 1, 'taylorswift13': 1, 'tour': 5, 'year': 12, '👊🔥': 1, 'amas\\u2060': 1, '\\u2060': 1, 'https://t.co/rki7hhr7rb': 1, 'gayhefner': 1, 'me': 68, 'lose': 4, 'kahoot': 1, 'https://t.co/8pdalqvipd': 1, 'pamelashine2': 1, 'fist': 1, 'pussy': 3, 'yes': 16, 'gt': 2, 'retweet': 4, 'follow': 6, '⬇️⬇️⬇️': 1, '🔥https://t.co/lwc6w09tjv': 1, '🔥https://t.co/hx7q2hn6jh': 1, '⬆️⬆️⬆️': 1, 'dimpledmochi': 2, 'they': 27, 'own': 7, 'ass': 10, 'bts': 9, 'btsinchicago': 4, 'btsloveyourselftour': 4, 'https://t.co/xdly3epqn5': 1, 'clairlemon': 1, 'james': 1, 'lindsay': 1, 'helen': 1, 'pluckrose': 1, 'amp': 20, 'peter': 1, 'boghossian': 1, 'have': 44, 'published': 2, 'fake': 1, 'papers': 2, 'peer-reviewed': 1, 'journals': 1, 'one': 24, 'was': 32, 'rap…': 1, 'songs': 1, 'long/and': 1, 'words': 1, 'sad/why': 1, 'must': 6, 'choose/between': 1, 'best': 10, 'ever': 9, 'had': 5, 'neilyoung': 1, '03-oct-18': 1, '10:30': 1, 'dollar': 1, 'vs': 3, 'rupee': 1, 'today': 12, 'reservebankofindia': 1, 'rbi': 1, '68.6573': 1, 'download': 1, 'android': 1, 'app': 3, 'https://t.co/aoputxcxcy': 1, 'marie_brownsuga': 1, 'y’all': 4, 'hate': 6, 'sleeping': 1, 'alone': 3, 'knocked': 1, 'afraid': 1, 'ai': 1, 'take': 8, 'job': 3, \"shouldn't\": 1, 'instead': 1, 'worried': 1, 'how': 18, 'integrate': 1, 'it.…': 1, 'https://t.co/izplhyag3w': 1, 'astronomers': 1, 'named': 1, 'goblin': 1, \"they've\": 2, 'learned': 1, '\"quite': 1, 'planet': 1, 'nine': 1, 'the…': 1, 'https://t.co/c6eqehvo0d': 1, 'shuailormoon': 1, 'seventeen': 1, 'suits': 2, 'while': 5, 'performing': 1, 'oh': 3, 'high': 4, 'class': 2, 'entire': 3, 'new': 20, 'level': 3, 'concept': 1, 'breat…': 1, 'learn': 3, 'sell': 1, 'instagram': 3, 'with': 42, \"'shop\": 1, \"now'\": 1, \"'stories'\": 1, 'ads': 1, 'https://t.co/adfpbavzhm': 1, 'inc': 1, 'shane_barker…': 1, 'https://t.co/gbvsorpme3': 1, 'welcome': 1, 'biltongbar': 1, 'click': 2, 'through': 3, 'delicious': 1, 'biltong': 1, 'recipes': 1, 'https://t.co/wm93dymcrv': 1, 'https://t.co/y65z5ejwe4': 1, 'yabknako': 1, 'asknct127': 1, 'comeback': 1, 'incorporated': 1, 'spanish': 1, 'lyrics': 1, 'title': 1, 'track': 2, 'do': 21, 'favorite': 10, 'latin': 1, 'artis…': 1, 'akshaykumar': 1, 'feeling': 2, \"couldn't\": 1, 'believe': 1, 'working': 2, 'core': 1, 'as': 24, 'cycle': 1, 'no-handed': 1, 'deserted': 1, 'roads': 2, 'jaisalmer': 1, 'life': 13, 'sarah': 1, 'palin’s': 1, 'son': 1, 'faces': 1, 'court': 1, 'decision': 3, 'jail': 1, 'https://t.co/ehgifzblcd': 1, 'tamamoebot': 1, 'moe': 1, 'bot][#24592': 1, 'twintails': 1, 'zr': 1, 'ore': 1, 'twintail': 1, 'ni': 1, 'nar#imasu': 1, 'https://t.co/aq7eywkbye': 1, 'taesttful': 1, 'dom': 2, 'who': 31, 'sub': 1, 'https://t.co/uilsp0qyt4': 1, 'really': 11, 'dont': 2, 'gaf': 1, 'anything': 6, 'anymore': 2, 'pick': 4, 'myself': 5, 'orbitmilly': 1, 'happy': 9, 'https://t.co/pkhxgudy3o': 1, 'even': 5, 'faker': 1, 'tapos': 1, 'naaaaaaa': 1, 'sunburned': 1, '😭': 3, 'hearteuu': 1, 'famouslos32': 1, 'everybody': 4, 'russia': 2, 'gon': 1, 'bounce': 1, '🤣': 3, 'https://t.co/qq6dpytixr': 1, 'lkirbyyy': 1, 'science': 2, 'suck': 2, 'https://t.co/wzzciye07y': 1, 'seeing': 4, 'wowcuppcaake': 1, 'thetwitchbakery': 1, 'stream': 1, 'team': 8, '2': 10, 'years': 6, 'ago': 3, 'seeing…': 1, 'https://t.co/20ink50njc': 1, 'tombstones': 1, 'ut2k4': 1, 'gaming': 1, 'server': 1, 'echo': 1, 'playing': 4, 'dm-asbestos': 1, '0/16': 1, 'players': 1, 'https://t.co/qdwj45me4l': 1, 'https://t.co/h9hbdajxjm': 1, 'thedalynjohnson': 1, 'old': 8, '260': 1, 'https://t.co/ws4rwcalpr': 1, 'surface': 1, 'tempered': 1, 'film': 1, 'samsung': 2, 's8': 1, 'plus': 1, 'https://t.co/ippjrkc3jj': 1, 'https://t.co/vx4vi6oip1': 1, 'because': 13, \"we've\": 1, 'lost': 2, 'their': 17, 'trust': 1, 'michael': 1, 'stomped': 1, 'earth': 2, 'song': 7, 'obsorbed': 1, 'force': 2, 'ski…': 1, 'https://t.co/gwbsxofdf8': 1, 'aristew': 2, 'he': 31, 'saw': 5, 'ghost': 4, '😂🏃🏾\\u200d♂️💨': 2, 'https://t.co/fq3duc0e8q': 2, '1hakz': 2, 'trying': 4, 'heal': 1, 'discuss': 3, 'msmthng': 1, 'host': 1, 'make': 15, 'smthng': 3, 'event': 2, 'during': 2, 'week': 5, 'nov': 1, '23': 1, '–': 2, 'dec': 1, '2018)⠀': 1, 'yeah': 6, '✨': 1, 'closer': 1, 'closer…': 1, 'manchester': 1, 'united': 3, 'frustrated': 1, 'valencia': 1, 'barren': 1, 'draw': 3, 'trafford': 1, 'mourinho': 1, 'ball': 2, 'nhl': 1, 'alert': 2, '10/3/18': 1, '0': 2, 'sponsor': 1, 'entry': 1, 'into': 6, '100k': 1, 'contest': 1, '5': 2, 'depoist': 1, 'draftkings': 1, 'https://t.co/ilqzuo7zy4': 1, 'tweet': 3, '\"rt': 1, 'alisakeeton658': 1, 'w12': 1, 'ico': 1, 'crowdsale': 1, 'bitcoin': 1, 'blockchain': 4, 'token': 1, 'eth': 1, 'ethereum': 1, 'tokensale…': 1, 'https://t.co/1lzutplgnu': 1, 'excuse': 2, 'primark’s': 1, 'makeup': 2, 'cruelty': 1, 'inexpensive': 1, 'yrchuncho': 1, '“you': 1, 'smell': 2, 'weed“': 1, 'okkkkk': 1, 'missed': 2, 'session': 1, 'tf': 3, 'https://t.co/7izltfufzp': 1, 'cardboardshark': 1, 'light': 2, 'candles': 1, 'incense': 1, 'dissolve': 1, 'salt': 1, 'cup': 1, 'water': 3, 'stand': 2, 'eastern': 1, 'sid…': 1, 'https://t.co/cw9gguggdd': 1, 'if': 29, \"haven't\": 3, 'crashed': 1, 'previous': 1, '22': 2, 'corners': 1, 'then': 7, 'chances': 1, 'stack': 1, \"murray's\": 1, 'motorsportmoments': 1, 'https://t.co/eskwalsdec': 1, 'aminaticsofc': 1, 'official': 2, 'hashtag': 1, 'aldubnationstayunited': 2, 'share': 1, 'reply': 3, 'ofctrendsetter': 2, 'ofcaldubkoto': 1, 'aldubbiggirlz…': 1, 'wants': 3, 'rule': 1, 'world': 8, 'sunglasses': 1, '1texanmarcy': 1, 'pftompkins': 1, 'busyphilipps': 1, 'pretty': 4, 'easy': 3, 'separate': 1, 'ones': 3, 'bad': 9, 'reac…': 1, 'https://t.co/4uvs3fbwbl': 1, 'prestashop': 1, 'module': 1, 'https://t.co/2dqampvupr': 1, 'https://t.co/hvwfodhdew': 1, 'wsj': 1, 'rents': 1, 'climbing': 1, 'double': 1, 'digits': 1, 'big': 4, 'across': 2, 'china': 2, 'fueled': 1, 'risky': 1, 'financial': 1, 'product': 1, 'called': 2, 'rental': 1, 'loans': 1, 'ht…': 1, 'tweeted': 1, 'times': 6, 'rachel': 1, 'marie': 1, 'writer': 1, 'https://t.co/hflpz9jguh': 1, 'cuteemergency': 2, 'surprise': 1, 'attack': 2, '📹': 1, 'goose_bear': 1, 'https://t.co/r1wprigre0': 1, 'call': 4, 'sometime': 1, 'b_los713': 1, 'im': 11, 'off': 8, 'friday': 1, 'too': 9, 'lets': 1, 'sum': 1, 'incorrectpcyllm': 1, 'rosé': 2, 'speak': 2, 'japanese': 1, 'lisa': 1, 'thailand': 1, \"'t\": 1, 'cause': 1, \"i'll\": 3, 'with…': 1, 'cloutboyjojoo': 1, \"y'all\": 3, 'proud': 2, 'boring': 1, 'https://t.co/xb6ek0egu0': 1, 'come': 7, 'stuff': 4, 'fogot': 1, 'loved': 4, 'game': 9, 'cube': 1, 'brothers': 1, 'crash': 2, 'was…': 1, 'https://t.co/uekoms0ha9': 1, 'wildflowrrz': 1, 'picky': 1, 'single': 3, 'worth': 3, 'won’t': 4, 'settle': 1, 'chr1stofe': 1, 'laughing': 3, 'she': 16, 'did': 12, 'needed': 3, 'done': 4, 'stan': 1, 'black': 5, 'queen': 3, '613': 1, 'wavy': 1, '30': 1, 'inch': 1, 'leading': 1, 'revolution': 1, 'https…': 2, 'rexchidubem': 1, 'exactly': 3, 'annoying': 1, 'only': 16, 'online': 1, 'seasons': 1, 'coins': 1, 'after': 9, 'finishing': 1, 'backwooddev': 1, 'mother': 4, '“holding”': 1, 'money': 9, 'https://t.co/zskefnyoox': 1, 'louxowens': 1, 'ill': 2, 'feel': 8, 'move': 2, 'holguinnatalie': 1, 'halloween': 1, 'blanket': 1, 'gn': 1, 'before': 6, 'start': 1, 'remembering': 2, 'dreams': 1, 'day': 14, '✔': 1, '0500': 1, 'utc': 3, 'wind': 3, 'n': 2, '0.0': 2, 'kts': 1, 'temp': 2, '11.0': 2, 'c': 5, 'max': 2, '09-09': 2, '16.6': 1, '11:21': 1, 'min': 2, '04:57': 1, 'dew': 1, 'pt': 1, '9.6': 1, 'bar': 4, '102…': 1, 'https://t.co/mvmuuii0bz': 1, 'i’m': 22, 'dating': 2, 'leo': 1, 'cee-c': 1, 'https://t.co/qnrwtlyvj2': 1, 'smolbaka': 1, 'sky': 1, 'didn’t': 7, 'now': 18, 'calling': 2, '🎶': 2, 'striving': 2, 'balance': 2, 'an': 17, 'instinctual': 2, 'reaction': 2, 'yet': 9, 'virgo': 3, 'https://t.co/ze2yha2dum': 1, 'burakovsky': 1, 'thing': 4, 'lock': 1, 'outside': 2, 'rated': 1, 'sexytimes': 1, 'ao3': 1, 'https://t.co/7ql6g8rjdj': 1, 'and…': 2, 'https://t.co/qmysqvw0mr': 1, 'gbpinr': 1, '291018': 1, 'current:95.68': 1, 'volume:11104': 1, 'oi:47534': 1, 'oct': 1, '03': 4, '10:29:05': 1, 'ist': 1, 'imkorean_too': 1, 'many': 8, 'highest': 3, 'point': 3, 'each': 2, 'earn': 1, 'ticket': 1, 'kinda': 1, 'ha…': 1, 'https://t.co/rlbtg1vrep': 1, \"qpac's\": 1, 'first': 8, 'taste': 1, 'priscilla': 1, 'desert': 1, 'musical': 1, 'short': 2, 'fabulous': 1, '👠': 1, 'https://t.co/wszs6woq4p': 1, 'ramblingsloa': 1, 'choose': 2, 'deepak': 1, 'chopra': 1, 'pic': 1, 'katrina': 1, 'parry': 1, 'https://t.co/oyoiyxzeux': 1, '28': 1, 'hours': 2, '59': 2, 'minutes': 2, 'seconds': 1, 'until': 4, 'next': 5, 'icos': 1, 'https://t.co/zlrb22oxoi': 1, 'via': 5, 'gosayyay': 1, 'https://t.co/nt5vi0psje': 1, 'quotes': 1, 'freshly': 1, 'created': 1, '2016': 1, '2017': 1, 'enjoy': 3, 'whatsappstatus': 1, 'latestquotes': 1, 'https://t.co/mpvia5gmsl': 1, 'https://t.co/qvpmo1phd0': 1, 'felda': 1, 'land': 1, 'deal': 1, 'suit': 2, 'judge': 2, 'recuses': 1, 'herself': 1, 'https://t.co/ulq1ezzbd7': 1, 'https://t.co/hrvddyyu0m': 1, 'sun': 1, 'joe': 1, 'tj604e': 1, 'electric': 1, 'garden': 1, 'tiller': 1, '16-inch': 1, '13.5a': 1, 'certified': 1, 'refurbished': 1, 'https://t.co/mzxwuz5sa3': 1, 'https://t.co/smhsdxzcle': 1, 'hit': 11, 'gore': 5, 'wildcard': 2, 'gifted': 1, 'post': 5, 'malone': 1, '25k': 1, 'gold': 1, 'bike': 1, 'https://t.co/nwdcgefcja': 1, 'prankclips': 1, 'funny': 3, 'prank': 1, 'iconflow215': 1, 'airing': 1, 'soon': 2, 'airitoutradio': 1, '24/7': 1, 'station...click': 1, 'link': 1, 'https://t.co/lrn0xxpgrx': 1, 'go': 11, 'https://t.co/bmdersudbs': 1, 'kelgia_rolle': 1, 'bey': 1, 'fuck': 15, 'put': 4, 'weight': 1, 'smt': 2, 'hannahhughes114': 1, 'either': 2, 'yeehaw': 1, 'yeehaws': 1, 'dhsgov': 1, 'reminder': 1, 'tomorrow': 2, '10/3': 1, '2:18': 1, 'pm': 2, 'edt': 1, 'there': 8, 'nationwide': 2, 'test': 3, 'wireless': 1, 'emergency': 2, 'system': 1, 'coordinatio…': 1, 'iveronclarice': 1, '“inom': 1, 'ta”': 1, 'evil': 2, 'surrounds': 1, 'defend': 2, '702austin': 1, 'that’s': 10, 'steve': 1, 'irwin': 1, 'bitch': 5, 'https://t.co/udyofsvage': 1, 'flirtaeguk': 2, 'both': 5, 'crying': 1, 'https://t.co/mar85yrjvf': 1, 'red': 1, 'hat': 3, 'security': 2, 'advisory': 2, '2018-2857-01': 1, 'https://t.co/r20schbcfw': 1, 'faqirch06726119': 1, 'pledgeforswachhbharat': 2, 'saint': 2, 'dr': 5, 'gurmeet': 1, 'ram': 1, 'rahim': 1, 'singh': 1, 'insan': 1, 'aka': 1, 'msg': 1, 'truly': 1, 'spiritual': 1, 'm…': 1, 'sewer': 1, 'https://t.co/53gxm8qqqs': 1, 'trump': 11, 'told': 3, 'saudi': 1, 'king': 1, \"wouldn't\": 1, 'last': 7, 'support': 3, 'https://t.co/pa1xfdi2dz': 1, 'presstv': 1, 'https://t.co/7ebpz1nzui': 1, 'samygo': 2, 'remote': 4, 'allows': 1, 'control': 1, 'following': 2, 'tvs': 1, 'over': 5, 'local': 1, 'network': 1, 'using': 1, 'wi…': 1, 'https://t.co/xqo4fw3kon': 1, 'beto': 1, 'o’rourke': 1, 'says': 6, 'passenger': 1, 'backs': 1, 'claim': 1, 'fleeing': 1, '1998': 1, 'dui': 1, 'https://t.co/nb8ojmo1vd': 1, 'https://t.co/zrv0obrtv0': 1, 'daze': 1, 'wonderb007': 1, 'matter': 1, 'village': 2, 'ballot': 1, 'reach': 4, 'basic': 1, 'needs': 3, 'fuelpricehike': 1, 'thecitizen_news': 1, 'william': 1, 'nicol': 1, 'drive': 3, 'renamed': 1, 'mama': 1, 'winnie': 1, 'https://t.co/dnpqneptrc': 1, 'kamalaharris': 2, 'november': 1, 'chance': 2, 'elect': 1, 'lawmakers': 1, 'something': 3, 'gun': 2, 'violence': 1, 'mass': 1, 'shootings': 1, 'electio…': 1, 'w12_io': 1, 'just': 36, '“https://t.co/salgu8zbe8': 1, 'smart': 4, 'contarcts': 1, 'vibeo': 1, 'collaboration”': 1, 'https://t.co/h9actp7rny': 1, 'umutzengin': 1, 'ngc': 1, '1898': 1, 'globular': 1, 'cluster': 1, 'lmc': 1, 'space': 2, 'nasa': 1, 'https://t.co/zcey3c3ynp': 1, '1taydinero': 1, 'girl': 2, 'doesn’t': 1, 'group': 5, 'friends': 9, 'fa…': 1, 'feelingfisky': 1, 'notebook': 1, 'discourse™': 1, 'https://t.co/7m3b1ncmxm': 1, 'expect': 2, 'better': 5, 'helps': 1, 'them': 8, 'become': 2, \"don't\": 13, 'disappointed': 1, 'n…': 1, 'https://t.co/9ztxl6nz9r': 1, 'pauly_twt': 1, 'taehyung': 6, 'ruin': 1, 'btsinchicago_d1': 1, 'bts_twt': 16, 'https://t.co/fk1dhmsl19': 1, 'diddy': 1, 'other': 4, '✊🏿': 1, 'https://t.co/mskqqarbwf': 1, 'need': 11, 'explain': 2, 'yourself': 4, 'family': 2, 'loves': 2, 'they’ll': 1, 'nctsmtown_dream': 1, '📸': 2, 'nct': 3, 'dream': 1, '‘we': 1, 'up’': 1, 'nctdream': 1, 'nctdream_wegoup': 1, 'wegoup': 1, 'we_go_up': 1, 'https://t.co/chobes3trb': 1, 'alyssa_milano': 1, 'breaking': 2, 'mocks': 1, 'ford': 6, 'video': 8, 'hey': 1, 'donaldjtrumpjr': 1, 'father': 1, 'asshole': 1, 'most': 9, 'misogynis…': 1, 'leightongrahame': 1, 'course': 2, '😊': 1, 'miss': 3, 'lol': 6, '😄': 1, 'aldubnation': 1, '“there': 1, 'power': 2, 'unity': 1, 'division”': 1, 'senyoratidora': 1, 'yayadubcloset': 1, 'glynnc…': 1, 'impact': 1, 'insurance': 2, 'industry': 1, 'https://t.co/1t96ahditq': 1, 'insurtech…': 1, 'https://t.co/t4cvhtbhpr': 1, 'customer': 1, 'churn': 1, 'usa': 2, 'gdp': 1, 'canada': 3, 'end': 1, 'customeracquisition': 1, 'addiction…': 1, 'https://t.co/oeo5ml9mbl': 1, 'basebailking': 1, 'baseball': 3, 'https://t.co/fewpscslka': 1, 'https://t.co/povqjrznqx': 1, 'interesting': 1, 'parts': 1, 'creation': 1, 'kid': 2, 'obscure': 1, 'instruments': 1, 'were': 5, 'used': 1, 'cre…': 1, 'https://t.co/kdy2qvjdfs': 1, 'houston_trill98': 1, 'fucking': 6, 'https://t.co/5zye9yaqmp': 1, 'rss': 1, 'feed': 1, 'url': 1, 'deprecated': 1, 'https://t.co/m2txxwt0fr': 1, 'miayahhhh': 1, 'cute': 8, 'again😍💅🏽': 1, 'sarcasmstardust': 1, 'lady': 2, 'avoided': 1, 'press': 1, 'conferences': 1, 'nearly': 1, 'held': 1, 'private': 2, 'fundraisers': 1, 'dolla…': 1, 'shizukus': 1, 'amas': 10, 'social': 5, 'artist': 7, 'presented': 2, 'xfinity': 2, 'https://t.co/i9nz17c7le': 1, 'https://t.co/tg4qf…': 1, 'msterling351': 1, 'gonna': 6, 'leave': 4, 'https://t.co/64htp4srmu': 1, 'went': 3, 'bed': 4, 'wide': 1, 'awake': 1, '2.2': 1, 'mph': 1, 'wnw': 1, 'barometer': 1, '1009.0': 1, 'hpa': 2, 'rising': 1, 'slowly': 2, 'temperature': 1, '11.9': 1, '°c': 1, 'rain': 2, 'mm': 2, 'humidity': 1, '90': 1, 'eloraflora88': 1, 'daninew18': 1, '\"have': 1, 'to\"': 1, 'public': 1, 'same': 1, 'pretend': 1, 'burn': 1, 'witches…': 1, 'https://t.co/godmroewic': 1, 'lowkeynerdyog': 2, 'hang': 2, 'https://t.co/utmhesiqqg': 2, 'jonnybones': 1, 'right': 3, 'never': 6, 'yours': 1, 'place': 3, 'make…': 1, 'ericcurtin': 1, 'french': 2, 'ppl': 2, 'bonjour': 1, 'fellas': 1, 'chasing': 1, 'baguette': 1, 'beauty': 2, 'greater': 1, 'recommendation': 1, 'letter': 1, 'reference': 1, 'health': 2, 'jackposobiec': 1, 'large': 1, 'ice': 1, 'cubes': 1, 'military-style': 1, 'assault': 2, 'vonmaestro': 1, 'let': 7, 'happened': 3, 'mean': 4, 'nasty': 1, 'person': 4, 'bette…': 1, '04:59': 1, 'sebgorka': 2, 'imbecile': 1, 'grandpooba26': 1, 'ya': 6, 'hell': 5, 'it’d': 1, 'definitely': 1, 'california': 1, '12': 3, 'olds': 2, 'nip': 1, 'tucked': 1, 'wrong': 4, 'buy': 4, '🤗': 1, 'clarissasza': 1, 'hitting': 2, 'hard': 5, 'god': 4, 'christ': 1, 'strengthens': 1, 'senblumenthal': 1, 'increasingly': 1, 'concerned': 1, 'calls': 3, 'leads': 1, 'conveyed': 1, 'fbi': 2, 'going': 8, 'prompt': 1, 'response': 2, 'resour…': 1, 'flat': 1, 'whites': 1, 'fast': 1, 'food': 2, 'where': 4, 'uk': 1, 'buys': 1, 'coffee': 1, 'https://t.co/ywdwe7r29u': 1, 'gulaaaaaaa': 1, 'weyh': 1, 'slide': 1, 'camni': 1, 'jinkissletsgo': 2, '181002': 5, 'chicago': 3, 'love_yourself': 2, 'epiphany': 2, '김석진': 2, '진': 2, 'jin': 2, '방탄소년단': 4, 'loveyourselfinchicago': 2, 'loveyours…': 2, \"'you\": 1, 'sees': 1, 'trusts': 1, 'believes': 1, 'kn…': 1, 'https://t.co/kxl4nyfoxx': 1, 'jaythefurry1': 1, '\"you': 1, 'being': 5, 'seen': 6, 'heard': 1, 'taking': 5, \"daddy's\": 1, 'cock': 1, 'you?~\"': 1, 'https://t.co/hmheug7iwt': 1, 'robreiner': 1, 'nyt': 1, 'story': 7, 'shocker': 1, 'would’ve': 1, 'thought': 5, 'donald': 1, 'would': 6, 'engage': 1, 'criminal': 1, 'behavior': 1, 'also': 3, 'surprising': 1, 'th…': 2, 'ryanafournier': 2, 'asked': 2, 'testify': 2, 'made': 6, 'demands': 2, 'delay': 2, 'kavanaugh': 10, 'multiple': 2, 'wan…': 2, 'defnotsally': 1, 'laying': 1, 'thinkin': 1, 'bout': 1, 'probably': 3, 'chosen': 2, 'kill': 3, 'marry': 1, 'hope': 7, 'you’ll': 1, 'wake': 1, 'realize': 3, 'been': 12, 'sabtheekhojayga': 1, 'aik': 1, 'garam': 1, 'chai': 1, 'ki': 1, 'pyali': 1, 'ho': 3, 'very': 2, 'progressive': 1, 'firstly': 1, \"'chahay\": 1, 'gori': 1, 'kali': 1, 'seenay': 1, 'se': 1, 'laganay': 1, 'wali': 1, 'ho…': 1, 'missing': 2, 'hurt': 2, 'knowing': 3, 'gotta': 2, 'live': 5, 'possibility': 1, 'heaven': 1, 'aint': 2, 'real': 8, 'pipertaetae': 1, '150911': 1, 'b-but': 1, 'blinked': 1, 'https://t.co/jpl1qkeg4m': 1, 'ridiculous': 1, 'soft': 1, 'cant': 1, 'thinking': 2, 'joon': 1, 'twirling': 1, 'khalifanotwiz': 1, 'nuts': 1, 'https://t.co/rus8z5j4jq': 1, '9': 1, 'sweet': 1, 'busy': 1, 'philipps': 1, 'michelle': 1, 'williams': 1, 'friendship': 1, 'dawson': 1, 'https://t.co/vakhgwkufv': 1, 'https://t.co/1zjunrotqh': 1, 'itsevandaniel': 1, 'him': 12, 'oyeronke': 1, \"that's\": 3, 'classic': 1, 'example': 1, 'copy': 1, 'paste😀': 1, 'drunk': 1, 'fight': 1, 'xotiffanysmiles': 1, 'voice': 1, '🗣🗣🗣': 1, 'https://t.co/a5vmhbdgr5': 1, 'kittystryker': 1, 'raffi': 1, 'legend': 2, 'glad': 1, 'grew': 1, '❤️': 2, 'https://t.co/cpufrhrgmj': 1, 'popularpups': 1, 'look': 6, 'lil': 1, 'face': 4, 'https://t.co/gvcbouvtdl': 1, 'naijaabynature': 1, 'passed': 1, 'mcat': 1, 'officially': 1, 'nurse': 1, 'landed': 1, 'internship': 1, 'wanted': 4, 'opened': 1, 't…': 5, 'lmao': 4, 'cold': 2, 'month': 1, 'https://t.co/4jpum6nh5b': 1, 'camila_cabello': 2, 'somewhere': 1, 'orleans': 1, 'https://t.co/vm6j2flz7t': 1, 'comics': 1, 'dead': 2, '163': 1, 'retailer': 1, 'colour': 1, 'variant': 1, '1:200': 1, 'super': 4, 'rare': 2, 'https://t.co/ovdr00klug': 1, 'comic': 2, 'https://t.co/jfvqb5xuel': 1, 'eleressea': 1, 'https://t.co/lxomj0tfcw': 1, 'tatatelebiz': 1, 'watch': 5, 'employees': 2, 'india’s': 1, 'preferred': 1, 'tech-assisted': 1, 'business': 7, 'service': 2, 'provider': 1, 'pride': 1, 'htt…': 2, 'jacobawohl': 1, 'christine': 3, 'blasey': 1, \"didn't\": 3, 'lie': 3, 'testimony': 2, 'bubbafartbucket': 1, 'usually': 1, 'does': 2, 'xvvvier': 1, 'cardi': 1, '“its': 1, 'loving': 1, 'worse”': 1, 'felt': 3, 'martergarter': 1, 'yup': 1, 'mayweather': 1, '34': 2, 'mcgregor': 1, 'twitter': 5, 'months': 2, 'since': 4, 'apr': 1, '2015': 1, 'https://t.co/lxhcbs9zi1': 1, 'itslilbaby_1': 1, 'play': 1, 'type': 3, 'gone': 3, 'theseoulstory': 1, \"it's\": 11, 'tvn': 1, 'drama': 1, \"'100\": 1, \"prince'\": 1, 'starring': 1, 'kyung': 1, 'soo': 1, 'nam': 1, 'hyun': 1, 'receives': 1, 'average…': 1, 'accuratenamjin': 1, 'transition': 1, \"i've\": 1, '“love': 1, 'life”': 1, 'pr…': 1, 'cystw3981': 1, 'tiffanyyoung': 1, 'ig': 4, 'w': 4, 'taeyeon': 1, 'pdt': 1, '👩💻': 1, 'teachyou': 1, 'tiffanyxhm_teachyou': 1, 'https://t.co/ahjfb6weu7': 1, '“what': 1, 'rings': 3, 'true': 2, 'false?”': 1, 'brett': 2, 'kavanaughvote': 1, 'cc': 1, 'jeffflake': 1, 'senatorcollins…': 1, 'https://t.co/eobfmtemea': 1, 'roosterteeth': 1, 'nightwing': 1, 'daredevil': 1, 'win': 1, 'epic': 1, 'death': 1, 'battle': 1, 'https://t.co/f7nvmbcgo1': 1, '⭐️': 1, 'https://t.co/bkqekcadao': 1, 'me.😉': 1, 'https://t.co/y7xy2bkpm0': 1, '899': 1, '~': 4, 'split': 1, 'bk1': 1, 'hybrid': 1, 'series': 3, 'plunge': 1, 'mount': 1, '1st': 3, 'rung': 1, 'mi5': 1, 'thrillers': 1, 'ladder…': 1, 'https://t.co/bswnr3ajgo': 1, 'someone': 4, 'second': 2, 'breast': 1, 'cancer': 2, 'loss': 1, 'still': 14, 'everyone': 7, 'l…': 2, 'https://t.co/xqsovcy5ae': 1, 'natureslover_s': 2, 'see': 9, 'color': 2, 'race': 1, 'species': 1, 'https://t.co/7igdafq1j7': 1, 'yhartists': 1, '乐华七子next': 1, '\"on&amp;on\"😙': 1, 'nex7': 1, \"'the\": 1, \"first'\": 1, 'iii✌': 1, 'available': 1, 'applemusic': 1, 'spotify‼❣👇': 1, 'apple': 2, 'music🎵': 1, '➡https://t.c…': 1, 'world_wide_wob': 1, 'rondo': 1, 'throw': 1, 'trolling': 1, 'mvp': 1, 'handshake': 1, 'paul': 1, 'millsap': 1, 'dustinmsandoval…': 1, 'mxrell': 1, 'sleepless': 1, 'stressed': 1, 'expected': 2, 'ok': 3, 'oldeeire': 1, 'chapel': 1, 'st': 2, \"patrick's\": 1, 'cathedral': 1, 'dublin': 1, '1270': 1, 'became': 1, 'known': 1, 'church': 1, 'use': 1, 'influx': 1, 'huguenot…': 1, 'report_army': 1, 'voting': 5, 'memes': 1, 'hashtags': 1, \"we'll\": 1, '😉': 1, 'pcas…': 1, 'amazing': 3, 'project': 2, 'such': 2, 'strong': 2, 'sure': 4, 'success.i': 1, 'wh…': 1, 'https://t.co/ii2nrajruo': 1, 'everyhourr23-11-20161': 1, '2018,10,03': 1, '01:00:15': 1, 'khanoisseur': 1, '4': 3, 'experience': 1, 'sexual': 3, 'abuse': 2, 'age': 3, '18': 1, 'report': 1, 'fear': 1, 'on…': 1, 'lesbianjeesuz': 1, 'gay': 2, 'chriistoker': 1, 'salma': 1, 'hayek': 1, 'took': 3, 'soul': 1, '90’s': 1, 'ion': 1, 'https://t.co/5edjzhjqzn': 1, 'parkermolloy': 1, 'trump’s': 2, 'parents': 1, 'they’re': 2, 'secondary': 1, 'characters': 1, 'tim': 1, 'burton': 1, 'movie': 2, 'https://t.co/0ehsoulaap': 1, 'odds': 1, 'maluma': 1, 'noticing': 1, 'comment': 2, '“i': 1, 'you”': 1, 'every': 6, 'carriemuskat': 1, 'longest': 1, 'postseason': 2, 'wrigley': 1, 'field': 1, 'history': 2, 'innings': 1, 'cubs': 5, 'gothbowser': 1, 'losing': 1, 'mind': 5, 'yall': 2, 'https://t.co/qcpzdkmst2': 1, 'jakaroo65': 1, 'dear': 2, 'men': 7, 'crazy': 3, 'screaming': 2, 'banshee': 1, 'women': 5, 'foaming': 1, 'mouth': 4, 'yelling': 1, 'abou…': 1, 'dunnlyndie': 1, '“1': 1, 'today”': 1, 'memories': 1, 'debber66': 1, 'listening': 1, 'realdonaldtrump': 5, 'evident': 1, 'much': 10, 'country': 2, 'contrast': 1, 'drink': 1, 'henny': 1, 'kkeneally': 1, 'here’s': 1, 'scottmorrisonmp': 1, 'april': 1, 'seems': 3, 'little': 3, 'understanding': 1, 'tampons': 1, 'pads': 1, 'ev…': 1, 'planning': 2, 'trips': 1, 'stresses': 1, '😂🙂😅': 1, 'jk_glitters': 1, 'lyric': 1, 'hobi': 1, 'looks': 2, 'beautiful': 4, 'sounds': 1, 'find': 6, 'turning': 2, 'away': 2, 'photos/vid…': 1, 'affordable': 1, 'quick': 1, 'card': 2, 'design': 1, 'services': 1, 'auxano': 1, 'businesscard': 1, 'bestbusinesscard…': 1, 'https://t.co/wlwk737tg8': 1, '06:58': 1, 'cest': 3, 'vivekagnihotri': 1, 'urbannaxals': 1, 'nandini': 1, 'sunder': 1, 'gang': 1, 'started': 1, '‘nautanki': 1, 'padyatra’': 1, 'adivasis': 1, 'r…': 2, 'lincolnbrewster': 1, 'letyourgloryshine': 1, 'lead': 3, 'rock': 1, 'radio': 1, 'princessdii': 1, 'ny': 3, 'niggas': 2, 'crackheads': 1, 'crack': 1, 'https://t.co/sakzg15zel': 1, 'coolbreeeze': 1, 'forgot': 1, 'got': 6, 'shoot': 1, 'dance': 4, 'btslytour': 1, 'btsnewark': 1, 'namjoon': 1, 'jungkook…': 1, 'simpleeluke': 1, 'calum': 1, 'outfit': 1, 'snazzy': 1, 'gave': 2, 'two': 3, 'thumbs': 1, 'moral': 1, 'calum5sos': 1, 'https://t.co…': 2, \"today's\": 1, 'youtube': 4, '「silk': 1, 'city': 3, 'dua': 1, \"lipa」's\": 1, '『electricity': 1, 'feat': 1, 'diplo': 1, 'mark': 2, 'ronson)』': 1, 'https://t.co/u2s12am8yb': 1, 'wow': 3, 'excited': 1, 'jeffreestar': 1, 'fearless': 1, 'leader': 2, 'bring': 3, '🙌🏼': 1, 'https://t.co/epdbanufqq': 1, 'bless': 2, 'miracle408923': 1, '🐶🐶': 1, 'https://t.co/jti4wpwqzk': 1, 'boo': 2, 'finna': 1, 'naruto': 1, 'eat': 2, 'mozzarella': 1, 'sticks': 1, 'onion': 1, \"here's\": 1, 'long-term': 1, 'tax': 3, 'bracket': 1, 'management': 1, 'increase': 1, 'tax-efficiency': 1, 'retirement': 1, 'portfolio': 1, 'https://t.co/uumttdcuuk': 1, 'anyone': 1, 'harness': 1, 'emotional': 1, 'energy': 2, 'scorpio': 1, 'https://t.co/vfwdiasb6w': 1, 'north': 2, 'south': 2, 'headed': 1, 'visit': 2, 'melbourne': 1, 'https://t.co/zrl8t33j2l': 1, 'nicknbeauty': 1, 'longing': 1, 'behind': 1, \"can't\": 2, 'carry': 1, 'survive': 2, 'https://t…': 1, 'juliannarvivas': 1, 'powerful': 3, 'af': 1, 'there’s': 3, 'houses': 1, 'cars': 1, 'planes': 1, 'between': 2, 'our…': 1, 'tl': 2, 'please': 7, 'middle': 1, '😭😭': 1, 'lewmzi': 1, 'https://t.co/szpdfv4kyg': 1, 'firtsiove': 1, 'exposing': 1, 'weakness': 2, 'holly': 1, 'forever': 2, 'remain': 2, 'iconic': 1, 'https://t.co/xadaabdmvw': 1, '06:56': 1, 'eniearreola': 1, 'ughhh': 1, 'case': 2, 'stripes😩🤒': 1, 'https://t.co/zailmkxvxy': 1, 'juniorbachchan': 1, 'great': 7, 'read': 2, '\"our\"': 1, 'sport': 1, 'article': 2, 'foreign': 1, 'newspaper': 1, 'jaipurpanthers': 1, 'prokabaddi': 1, 'https://t.co/dt…': 1, 'understand': 4, 'dns': 1, 'servers': 1, 'persistently': 1, 'difficult': 2, 'fostah': 1, 'hahahah': 1, 'diorkapri': 1, 'boyfriend': 1, 'potential': 2, 'greatest': 1, 'whatever': 2, 'puts': 1, 'side': 4, 'w…': 2, 'andobiki': 1, 'run': 5, 'mr': 3, 'https://t.co/8tpt1kodef': 1, 'sunrise': 1, '05:49am': 1, 'partly': 1, 'cloudy': 2, 'low': 2, 'of:23': 1, 'https://t.co/lclke8cgd1': 1, 's4iff': 1, 'summer': 1, 'drake': 1, 'dropped': 1, 'nice': 2, '24': 2, 'devoted': 1, 'car': 1, 'https://t.co/riuk0irmu9': 1, 'taehyvngpics': 1, 'preview': 1, '뷔': 2, '태형': 2, 'v': 1, 'https://t.co/ipfdx0woqy': 1, 'healthranger': 1, 'practicing': 1, 'yoga': 2, 'improve': 1, 'posture': 1, 'mobility': 1, \"parkinson's\": 1, 'patients': 1, 'https://t.co/plrbb9ejrp': 1, 'parkinsonsdisease': 1, 'ripping': 1, 'seams': 1, '’': 2, 'mrroscoes': 1, 'wo': 1, 'nvm': 1, 'https://t.co/zlan9rsful': 1, 'he’s': 3, 'acting': 1, 'jake': 1, 'pol': 1, 'crime': 2, 'equivalent': 1, 'ted': 1, 'bundy': 1, 'jeffrey': 1, 'dahmer': 1, 'stupid': 2, 'shinemygold': 1, 'act': 2, 'obsessed': 1, 'cheat': 1, 'shits': 1, 'serial': 1, 'predator': 1, 'demeans': 1, 'belittles': 1, 'microsoft42': 1, 'strongest': 1, 'era': 1, 'humanity': 2, 'https://t.co/u6qw38h8k9': 1, 'sirdukedevin': 1, 'terrified': 1, 'walk': 2, 'scary': 1, 'young': 3, 'america': 2, 'jaliese_rhanae': 1, 'main': 2, 'bitchhhhh': 1, '❗️🤞🏾😘': 1, 'https://t.co/tbijph3cdj': 1, 'angelvocalksj': 1, \"seokjinnie's\": 1, 'pls': 1, '👏👏': 1, '🔗https://t.co/nw7sipoyy7': 1, 'https://t.co/xnjh9rngyw': 1, 'hi': 1, 'mkbhd': 1, 'smartwatch': 1, 'usual': 1, 'gps': 1, 'hartrate': 1, 'sensor': 1, 'wear': 4, 'os': 1, 'f…': 1, 'https://t.co/cqommdjlhe': 1, 'combatdebater': 1, 'democrats': 1, 'preach': 1, 'party': 1, 'full': 3, 'kanye': 2, 'wears': 2, 'maga': 2, 'madonna': 1, 'ka…': 1, 'elj1329': 1, 'andallorie': 1, 'vhilms': 1, 'aldubeth02': 1, 'pinkyfaye': 1, 'latuazon': 1, 'jegi18': 1, 'wengcookie': 1, 'noemicaseres53': 1, 'sakurakharel…': 1, 'https://t.co/xdfqj4q4nd': 1, 'xanborghini': 1, 'hiding': 1, 'em': 1, 'jacquees': 1, 'https://t.co/humhrkyruk': 1, 'unremarkable': 1, 'unspeakable': 1, 'heart…': 1, 'sugar': 1, 'creek': 1, 'https://t.co/ljsufvohvw': 1, 'nix973': 1, 'jersey': 1, 'edition': 1, 'https://t.co/975odfgxui': 1, 'woman’s': 1, 'fault': 1, '🙄': 1, 'cinnamontoastk': 1, 'impossible': 1, 'abdulllllaaaaaa': 2, 'studying': 2, 'minute': 2, 'https://t.co/3gep1aexki': 2, 'paid': 2, 'talk': 1, 'sports': 1, 'nl': 1, 'west': 1, 'playoffs': 1, 'this…': 1, 'https://t.co/lhjh9684gi': 1, 'judged': 1, 'reason': 1, 'sucks': 1, 'retrieverspic': 1, 'dog': 1, 'deserves': 3, 'round': 1, 'applause': 1, '👏': 2, 'https://t.co/72qs5adyh2': 1, 'hornyrelatable': 1, 'bday': 1, 'sex': 3, 'https://t.co/g6hhkezmhu': 1, 'adriannaempie': 1, 'utbarstool': 1, 'she’s': 1, 'upset': 1, 'unaffected': 1, 's…': 2, \"isn't\": 1, 'lilyachty': 1, 'tweakin': 2, 'https://t.co/l1bm7wgmiv': 1, 'shift': 1, 'tide': 1, 'barely': 2, 'perceptible': 1, 'https://t.co/qjvnusqedo': 1, 'living': 1, 'mlb': 1, 'tony': 2, 'wolters': 2, '🔥': 1, 'https://t.co/o1ehguo8ap': 1, 'man': 4, 'eyeing': 1, 'shock': 1, 'loan': 1, 'veteran': 1, 'swedish': 1, 'defender': 1, 'https://t.co/pk8p8ox779': 1, 'https://t.co/xwvbx0plx1': 1, 'golfinggary5222': 1, 'boom': 1, 'democrat': 1, 'senator': 1, 'coons': 1, 'rolls': 1, 'another': 7, 'phony': 1, 'allegation': 1, 'against': 3, 'grassley': 1, 'unloads': 1, 'sets': 1, 'awardsdaily': 1, 'actor': 1, 'sir': 3, 'christian': 1, 'bale': 1, 'dick': 2, 'cheney': 1, 'somethi…': 1, 'tallest': 1, 'height': 1, 'sam58870': 1, '\"on': 1, \"gandhi's\": 1, 'birthday,\"': 1, 'millions': 1, 'americans': 1, 'restart': 1, 'restartleader': 1, 'interview': 1, 'wednesda…': 1, 'https://t.co/1absx3qyzg': 1, '\"fuck': 1, 'first\"': 1, 'couceignacio': 1, \"blasey-ford's\": 1, 'attorneys': 1, 'withhold': 1, 'polygraph': 2, 'results': 3, 'senate': 4, 'judiciary': 2, 'committee': 2, 'ex-boyfriend': 2, 'six': 1, 'year…': 1, 'thehill': 1, 'former': 3, 'yale': 1, 'classmates': 1, 'withdraw': 1, '\"partisan\"': 1, 'https://t.co/7xdh4g18ne': 1, 'https://t.co/k5k8g…': 1, 'watching': 2, 'titanic': 1, 'already': 2, 'part💀': 1, 'istan_queen': 1, 'special': 1, 'unique': 4, 'vivoree': 1, 'pushawardsvivoreevlievers': 1, 'https://t.co/ypib…': 1, 'lakers': 2, 'heading': 1, 'fourth': 1, 'javalemcgee': 1, '15': 1, 'pts': 2, 'reb': 1, 'blk': 1, 'kingjames': 1, '13': 1, 'ast': 1, 'stl…': 1, 'ompraka1452': 1, 'salute': 1, 'derasachasauda': 1, 'inspired': 1, 'gurmeetramrahim': 1, 'https://t.co/iztuxzwl9j': 1, 'spencreidd': 1, 'reid': 1, 'signing': 1, 'warn': 1, 'sneak': 1, 'peak': 1, 'boi': 1, 'https://t.co/ktlccnftnh': 1, 'bhaddhad': 1, 's': 2, 'upport': 1, 'nderstand': 1, 'ommunicate': 1, 'k': 1, 'sadness': 1, 'm': 1, 'ake': 1, 'y': 2, 'ell': 1, 'racists…': 1, 'chuckcallesto': 1, 'interested': 1, 'happens': 1, 'dem': 1, 'finds': 1, 'squat': 1, 'hide': 2, 'plo…': 1, 'forbes': 1, 'paris': 1, 'auto': 1, 'show': 3, 'bmw': 1, 'unveils': 1, '3-series': 1, 'sedan': 1, 'https://t.co/6viu9pqzw3': 1, 'https://t.co/cnnhku0qf8': 1, 'flirt': 1, 'https://t.co/ls19ia1l1a': 1, 'trade': 2, 'pact': 1, 'clause': 1, 'deterring': 1, 'deals': 1, 'https://t.co/pj2oopvlwi': 1, 'lokol': 1, 'stalbert': 1, 'nytimes': 2, 'york': 2, 'times’s': 1, 'findings': 1, 'based': 1, 'interviews': 1, 'fred': 2, 'advisers': 1, '100,000': 1, 'pa…': 1, 'tatumnicoleee': 1, 'waiting': 2, 'disappoint': 1, 'everyday': 2, '🤷🏽\\u200d♂️🤷🏽\\u200d♂️🤷🏽\\u200d♂️': 1, 'haleynorman34': 1, 'flirting': 1, 'almost': 1, 'self': 2, 'relationship': 1, 'https://t.co/7pkzngmndr': 1, 'upstephanie': 1, 'albert': 1, 'sherwood': 1, 'park': 2, 'consider': 1, 'themselves': 1, 'town': 1, 'convenient': 1, 'them.…': 1, 'https://t.co/udrbs86xlz': 1, 'khalil_alsalmi': 1, 'success': 2, 'connected': 1, 'action': 1, 'successful': 1, 'keep': 7, 'moving': 1, 'mistakes': 1, 'quit': 1, 'shannonrwatts': 1, '“how': 1, 'home': 3, \"'i\": 3, \"remember.'\": 2, 'meenavogue': 1, 'moment': 1, 'appreciate': 2, 'insane': 1, 'pigment': 1, 'hcofficials': 1, 'shook': 1, 'https://t.co/iaebelsods': 1, 'joeyakan': 1, \"wizkid's\": 1, 'music': 4, 'listen': 1, 'stressing': 1, 'didnt': 2, 'nba': 2, 'josh': 1, 'hart': 1, 'takes': 1, 'rack': 1, 'nbapreseason': 2, 'lakers/@nuggets': 1, 'nbaontnt': 2, 'https://t.co/e7eobxogor': 1, 'dyin': 1, 'alexjferraro': 1, '🙏🙏': 2, 'birthday': 1, 'brother': 2, 'talejo': 1, 'baby🤨❤️': 1, 'starting9': 1, 'hero': 2, 'https://t.co/zudosakehq': 1, 'owners': 1, 'riverside': 1, 'ca': 1, 'employee': 1, 'problem': 2, 'help': 3, 'join': 1, 'board': 1, 'directors': 1, 'an…': 1, 'https://t.co/pdkfinrrt3': 1, 'lmjupdates': 1, 'lauren': 1, 'posted': 3, 'https://t.co/yan38kvbqp': 1, 'arely__m': 1, 'teachers': 1, 'give': 2, 'clear': 1, 'instructions': 1, 'confused': 1, '99.9': 1, '😳': 1, 'martines': 1, 'hwy': 1, 'westbound': 1, 'driver': 1, 'struck': 1, 'several': 1, 'vehicles': 1, 'delays': 1, 'wb4': 1, 'cummings': 1, 'skyway': 1, 'drvox': 1, 'crimes': 2, 'names': 2, 'https://t.co/nua4ekmsdr': 1, 'asks': 1, 'lot': 4, 'questions': 1, 'answer': 3, 'tod': 1, 'pisces': 1, 'https://t.co/folhhg60gv': 1, 'news': 3, '\"nag': 1, 'resign': 1, 'na': 1, 'si': 1, 'mocha\"': 1, '😂😂😂👍👍👍👍': 1, 'puresilkduvet': 1, 'http://t.co/uvcwo79edp': 1, 'silkduvet': 1, 'mood': 2, 'ivaaaania': 1, 'https://t.co/unkbfconyy': 1, 'doing': 2, 'https://t.co/xerszhuvfr': 1, 'itsmurray': 1, 'you’re': 5, 'hogging': 1, 'tables': 1, 'gl': 1, 'thanks': 3, 'micaa290': 1, 'favoritesocialartist': 1, 'ddlovato': 1, 'https://t.co/xit302kegv': 1, 'samgranaroli': 1, 'professor': 3, '77': 1, 'hearing': 1, 'impaired': 1, 'sit': 1, 'corner': 1, '16': 1, 'student': 1, 'clas…': 1, 'elmertunay': 1, 'disgusting': 1, 'https://t.co/eghbuq3anx': 1, 'oglordthisdick': 1, 'feelin': 1, 'rn': 1, 'ye': 1, 'respect': 2, 'name': 3, 'https://t.co/aov4nb6yas': 1, 'issa': 1, 'boy': 3, '💃🏽': 1, 'ditadunnisa': 1, 'wannaone': 1, 'hwang': 3, 'minhyun': 3, 'solo': 2, 'cosmetic': 2, 'model': 3, 'selected': 1, 'cosmestic': 1, 'brand': 3, 'meme': 1, 'he…': 2, 'nfl_memes': 1, 'perfect': 1, 'https://t.co/4rxv2skayc': 1, 'postbigfines': 1, 'sis': 3, 'yeast': 1, 'infection': 1, 'shreyaghoshal': 1, '35th': 1, 'shiladitya': 1, 'happiness': 1, 'may': 2, 'cra…': 1, 'bangtanarmymom': 1, 'https://t.co/9c2nltjjvh': 1, 'philsadelphia': 1, 'okay': 3, 'seem': 2, 'distant': 1, 'fine': 2, 'brain': 1, 'https://t.co/miu6u4gwzx': 1, 'google': 1, 'optimise': 1, 'site': 1, 'rankings': 1, 'https://t.co/4xf7na046e': 1, 'seo': 1, 'training': 1, 'broken': 1, 'text': 2, 'seventh': 1, 'grade': 2, 'hurting': 1, 'bc': 2, 'chanc…': 1, 'https://t.co/zx24lkkqtq': 1, 'style': 2, 'putting': 1, 'external': 2, 'conditions': 1, 'capricorn': 1, 'https://t.co/8aruck5lt8': 1, 'anthonyvito': 1, '🤔': 1, 'making': 3, 'regular': 1, 'principal': 1, 'contributions': 1, 'addition': 2, 'house': 2, 'payment': 1, 'mortgage': 1, 'before…': 1, 'https://t.co/e2sj65jga5': 1, 'lexiialijaii': 1, 'https://t.co/7wzhpis5aj': 1, 'erickbriancolon': 1, 'wanna': 4, 'ride': 1, 'https://t.co/giehq1ptyl': 1, '2betvxq': 1, 'staff': 1, 'report]2018/10/02': 1, 'bigeast': 1, 'evening♪': 1, 'https://t.co/jgdaves4hm': 1, 'https://t.co/phjnmkrc9e': 1, 'genuinely': 1, 'nagaland': 1, '22nd': 1, 'open': 2, 'defecation': 1, 'state': 1, 'india': 1, 'https://t.co/rmadaxervi': 1, 'https://t.co/eewlpsgpgi': 1, 'ouch': 1, 'plate': 1, 'umpire': 1, 'brunt': 1, 'pitch': 1, '06:59': 1, 'tamia_nico': 1, 'naw': 1, 'technology': 1, 'whole': 1, 'vibe': 1, 'rome': 2, 'mostly': 2, 'sunny': 1, '80f': 1, '57f': 1, 'italy': 1, 'flowerboytre': 1, 'finally': 2, 'https://t.co/kxgb2b3ko8': 1, 'brentconner': 1, 'yesyes': 1, 'y…': 2, 'hardstoplucas': 1, 'somebody’s': 1, 'https://t.co/jmt77ccfmk': 1, 'sister': 1, 'spider-man': 1, 'spider': 1, 'verse': 1, 'december': 1, 'applications': 1, 'sibli…': 1, 'https://t.co/rxmr62lcah': 1, 'folks': 1, 'i’ve': 4, 'experienced': 1, 'bullshit': 1, 'long': 4, 'term': 1, 'basis': 1, 'i’ll': 3, 'damned': 1, 'mf…': 1, 'https://t.co/dfhcziw71a': 1, '14:00': 1, 'daisyxsock': 1, 'o': 1, 'whos': 1, 'cooassmeechie': 1, 'fat': 2, 'chicken': 1, 'tenders': 1, 'https://t.co/aaor4vml4z': 1, 'periscope': 1, 'q&amp;a': 1, 'woe': 1, 'generation': 2, 'advice': 1, 'prayer': 1, 'eggdrp': 1, 'golive': 1, 'periscopetv': 1, 'https://t.co/jro4bajbi6': 1, 'chrisevans': 1, 'kidding': 2, 'purpose': 2, 'vitriol': 1, 'spew': 1, 'to…': 1, 'malackies': 1, 'ugly': 4, 'lately': 1, 'honestly': 3, 'wtf': 3, 'sportsnation': 1, 'henry': 1, 'rowengartner': 1, 'goes': 1, 'https://t.co/nxwnjwu5lg': 1, 'appeal': 1, 'television': 1, 'aalikaleri': 1, 'reverse': 1, 'osmosis': 1, 'plant': 1, 'installed': 1, 'sindhgovt': 1, 'islamkot': 1, 'purifying': 1, '1.5': 1, 'million': 1, 'gallons': 1, 'per': 2, 'free…': 1, 'pixymusemusic': 1, 'supportthecure': 1, 'breastcancerawarnessmonth': 1, 'cure': 1, 'anyway': 2, 'can!😘': 1, 'this!😘': 1, 'gainwithp…': 1, 'theme': 2, 'fl': 1, 'broward': 1, 'hollywood': 1, 'https://t.co/chugqkxm31': 1, '11thhour': 1, 'dire': 1, 'message': 1, 'proven': 4, 'pathological': 1, 'liar': 1, 'idea': 2, 'ananavarro': 2, 'https://t.co/nhryiu8ewd': 1, 'kendilaniannbc': 1, '\"by': 1, 'earning': 1, '200,000': 1, 'today’s': 1, 'dollars': 1, 'father’s': 1, 'empire': 1, 'millionaire': 1, '8…': 1, 'ily': 1, 'bihh': 1, 'ilyt': 1, 'https://t.co/3jyabc1u7x': 1, 'raphaell_d': 1, 'lmaoooooo': 1, 'date': 1, 'different': 2, '😂😂😂😂😂': 1, 'https://t.co/dngzwrpiky': 1, 'noumantweets': 1, 'sand': 1, 'beach': 1, 'iceland': 1, '🖤': 1, 'https://t.co/bu3bqo6t5x': 1, 'supsycho': 1, 'grow': 1, 'blessing': 2, 'opshinobi': 1, 'sakura': 1, 'doesnt': 1, 'sad': 3, 'dad': 1, 'xradius': 1, 'tight': 1, 'situation': 2, 'financially': 1, 'requiring': 1, 'spendi…': 1, 'https://t.co/o98ktwxdtu': 1, 'vlmhma': 1, 'sandu787': 1, 'replied': 2, 'dm': 1, 'kindly': 1, 'tar': 1, 'neveronbrand': 1, 'guy': 1, \"he's\": 4, 'nervous': 1, 'metoo': 1, 'remind': 1, 'murderers': 1, 'ask': 2, 'why…': 1, 'jtb22297': 1, 'least': 2, 'ump': 2, 'drilled': 1, 'uicyyy': 1, 'mad': 3, 'hair': 4, 'smoke': 1, 'wood': 1, 'saket71': 1, 'duffer': 1, 'farmer': 1, 'leans': 1, 'indian': 1, 'constitution': 1, 'isn’t': 2, 'attempting': 1, 'overthrow': 1, 'fighting': 1, 'islamic': 1, 'ru…': 1, 's/o': 1, 'becoming': 1, 'avatar': 2, 'retribution': 2, 'daughter': 1, 'seriously': 1, 'though': 1, 'parishes': 1, 'bozeman': 1, 'cancel': 1, 'confession': 1, 'offer': 1, 'than…': 1, 'https://t.co/qzrgozwyvn': 1, 'samoajoe': 1, 'fired': 1, 'https://t.co/sj3mzrfmwc': 1, 'stevesilberman': 1, 'mocking': 2, 'survivor': 1, 'front': 2, 'cheering': 1, 'crowd': 1, \"doesn't\": 2, 'sick': 3, 'stomach': 1, 'a…': 4, 'idabitxh': 1, 'you’ve': 1, 'snooze': 1, '45': 1, 'https://t.co/lwyxdo0my8': 1, 'sabrina_o0': 1, 'safe': 4, 'https://t.co/rmoep8hvys': 1, 'tudortweep': 1, 'release': 2, 'elizabeth': 2, 'tudor': 1, 'battles': 1, 'rebellion': 1, 'royalty': 1, 'betrayal': 1, 'beliefs': 1, 'cousin': 1, 'mary': 1, 'scots,…': 1, '06:45': 1, '9.6°c': 1, 'hum': 1, '74': 1, 'dewp': 1, '4.1°c': 1, '1024.4': 1, '196°': 1, '11.2': 1, 'km/h': 1, 'o_xxvi': 1, 'head': 1, 'fuckinghqze': 1, 'valebillz': 1, 'dare_jonson': 1, 'villainrespi': 1, 'wplls': 1, 'forward': 2, 'celebritykimdot': 1, '‘#time': 1, 'running': 4, 'out’': 1, 'indonesia': 1, 'tsunami': 1, 'survivors': 1, 'https://t.co/mqcqbzxq3r': 1, 'svaradarajan': 1, 'harish': 1, 'khare': 1, 'writes': 1, '\"the': 1, 'pith': 1, 'substance': 1, 'aadhaar': 1, 'verdict': 1, 'bullies': 1, 'cautioned': 1, 'judicial…': 1, '“hit': 1, 'batter”': 1, 'winnbooker': 1, 'dpthekid': 1, 'cj_barrett9': 1, 'zekeshutdown24': 1, 'lilbigbrother': 1, 'bossman_bam59': 1, 'mr3_2': 1, '\"i': 1, 'lived': 1, 'discover': 1, 'strange': 2, 'truth.\"': 1, 'arrogant': 1, 'entitled': 1, 'lying': 1, 'pos': 1, 'ja_quip': 1, \"'\": 2, '🌙⭐️': 1, 'https://t.co/yxyec5m1l8': 1, 'thegiftedonfox': 1, 'merely': 1, 'putty': 1, '❄️': 1, 'thegifted': 1, 'innercircle': 1, 'skylersamuels': 1, 'https://t.co/qrpelujfmh': 1, 'incredible': 2, 'nation': 1, 'respected': 1, 'again': 3, 'https://t.co/94kusycdaj': 1, 'nathisounds': 1, '😇🤗': 1, 'eatmysprinkles': 1, '😩': 1, 'scorpiomel': 1, 'plays': 2, 'pnd': 1, 'https://t.co/hk4hyllqsi': 1, 'maynardjeffry': 1, 'greeneum': 1, 'combines': 1, 'contracts': 1, 'artificial': 1, 'intelligence': 1, 'validate': 1, 'monetize': 1, 'predict': 1, 'incentiviz…': 1, 'imtheebrock': 1, 'related': 1, 'https://t.co/3x9twwi9yp': 1, 'bigdickbigego': 1, 'lethargiccommie': 1, 'video_relaxants': 1, 'technically': 1, 'failed': 1, 'pseudo-nation': 1, 'tried': 1, 'ex…': 1, 'https://t.co/wijr2ely9q': 1, 'hour': 2, '01:00pm#mrpoints': 1, 'staydc': 1, 'macdonald': 1, 'authorities': 1, 'probe': 1, 'allegations': 1, 'https://t.co/uzuedysqpf': 1, 'k__amran': 1, 'irritated': 1, 'sorry': 2, 'turned': 1, 'sappy': 1, 'sad…': 1, 'https://t.co/qrmw9vxfrz': 1, 'shoshoaziiz1': 1, 'bts_bighit': 2, 'jhope': 1, 'handsome💙': 1, 'lyinchicago': 1, 'https://t.co/mg8riaxruc': 1, 'majesticwentz': 1, 'https://t.co/sqzuk3bbgf': 1, 'robw_tn': 1, 'honor': 1, \"trump's\": 1, 'johnson': 1, 'plethora': 1, 'examples': 1, 'tennessee': 1, 'growth': 1, 'https://t.co/rwv7ymn…': 1, 'winterverry1230': 1, 'pre': 1, 'ly': 1, '태태': 1, '💜💜': 1, 'https://t.co/aa1mfdjwk9': 1, 'soojintae': 1, 'taehyungie': 1, 'dark': 2, '🙄🙄😍': 1, 'https://t.co/kzcdt6ktd0': 1, 'ddnational': 2, 'mahatmagandhi': 1, 'international': 1, 'sanitation': 1, 'convention': 1, 'mgisc': 1, '10:40': 1, 'live-stream…': 1, 'saying': 2, 'cbs': 1, 'translator': 1, 'atrocity': 1, 'marijuanablunts': 1, 'yaboysavage': 1, '😢': 1, 'how’d': 1, 'naturallylili': 1, 'hammertime1009': 1, 'alive': 1, 'god👏🏾': 1, 'ik': 1, 'insensitive': 1, 'di…': 1, 'jerrycarman04': 1, 'suzasusza': 1, 'friocarrieo': 1, 'kevt4': 1, 'spanked': 1, 'telling': 3, 'only…': 1, 'congratulations': 1, 'victryant': 1, 'starting': 1, 'label': 1, 'n’': 2, '😈🏆': 1, 'guns': 1, 'artist:…': 1, 'https://t.co/3mlnieiud9': 1, 'cjarzyna': 1, 'thirteen': 1, 'demi': 1, 'condom': 1, 'commercial': 1, 'https://t.co/tagadvmb9s': 1, 'teacher': 1, 'members': 2, 'repeatedly': 2, 'referring': 1, 'member': 1, 'dan…': 1, 'https://t.co/auugwvvtb7': 1, 'review': 1, 'innovation': 1, 'agency': 1, 'plans': 1, 'major': 1, 'push': 1, 'startups': 1, 'https://t.co/nhqciuoele': 1, 'https://t.co/jqjzwkawth': 1, 'recent': 2, 'picture': 2, 'thala': 2, 'ajith': 1, 'fan': 2, 'viswasam': 1, 'https://t.co/aytkyjhu5l': 1, 'problems': 3, 'fit': 1, 'https://t.co/pbojpr0lep': 1, 'https://t.co/91z4evr3rl': 1, 'anyramrez10': 1, 'jinwh': 1, 'nayaxbts051004': 1, '10': 2, '21st': 1, 'century': 1, 'jungkook': 1, \"tae's\": 1, 'shirt': 2, 'collar': 1, 'fhfhgh': 1, 'https://t.co/hyx6exclv7': 1, 'awesome': 2, 'photo': 2, 'flying': 1, 'fish': 3, 'creatures': 1, 'glide': 1, '400': 1, 'metres': 1, 'https://t.co/inyvq92kbv': 1, 'stick': 1, 'cantact': 1, 'siddonsdan': 1, 'recap': 1, 'inauguration': 1, 'images': 1, 'score': 1, 'relive': 1, 'historic': 1, 'sworn…': 1, 'starcinema': 1, 'haven’t': 1, 'worries': 1, 'thehowsofus': 1, 'showing': 1, 'cinemas': 1, '💙': 2, 'https://t.co/tiazs6om6c': 1, 'safety': 1, '‘reeva': 1, 'pack’': 1, 'statistics': 1, 'leaving': 1, 'abusive': 1, 'relatio…': 1, 'https://t.co/zaox2yhkzb': 1, 'photosyntheosis': 1, 'hug': 1, 'ur': 1, 'cocobunni1': 1, 'guessssss': 1, 'stemchallenge': 1, 'https://t.co/ixr28bfdnb': 1, 'liked': 2, 'https://t.co/risivim9c3': 1, 'haunting': 1, 'el': 1, 'paso': 1, 'high!🎃👻🔪': 1, 'aye_bay_bay': 1, 'wrote': 1, '14': 1, 'page': 1, 'paper': 1, 'livid': 1, 'pldt': 1, 'popular': 2, 'kapamilya': 1, 'maymay': 1, 'entrata': 1, 'edward': 1, 'barber': 1, 'connection': 1, 'endorsers': 1, 'o…': 1, 'elizabethkailey': 1, 'catch': 2, 'https://t.co/x8imm4iyat': 1, 'dutch': 1, 'bank': 1, 'sentences': 1, 'teenage': 1, 'ddos': 1, 'culprit': 1, 'community': 1, 'https://t.co/p9fluqxugi': 1, 'sarahpalinusa': 1, 'fantastic': 1, 'tells': 1, 'everything': 1, 'tju': 1, 'pardede': 3, 'wife': 1, 'ronaldo': 2, 'marriage': 1, 'license': 1, 'https://t.co/iqybyq6nog': 1, 'lrihendry': 1, 'donate': 1, '100': 4, 'fund': 1, 'profits': 1, 'groups': 1, 'benefiting': 1, 'victims': 1, 'robynslov': 1, 'monsters': 1, 'compare': 1, 'gaga': 1, 's_weezay': 1, 'therapist': 1, 'progress': 1, 'secrets': 1, 'do…': 1, 'rachellemaust': 1, 'fall': 3, 'imma': 2, 'puffy': 1, 'jackets': 1, 'degrees': 1, 'ipnotic': 1, 'ray': 1, 'lee': 1, 'miller’s': 1, 'eye': 2, '1932': 1, 'https://t.co/jqvnhcaiom': 1, 'tealekden': 1, 'often': 1, 'destinations': 1, 'https://t.co/kixmgsw1zf': 1, 'motivation': 1, 'motivatedmom': 1, 've…': 1, 'demetriusharmon': 1, 'airbender': 1, 'shows': 1, 'yungbans': 1, 'baby': 3, 'tell': 3, '😂👍': 1, 'shewhoblesses': 1, 'enough': 2, 'hi…': 1, 'https://t.co/cqxujkc0pi': 1, 'helped': 1, 'friend': 1, 'prep': 1, 'pro2ndamendment': 1, 'https://t.co/c9abzzauvm': 1, 'finding': 1, 'ferns': 1, 'hc': 1, 'andreas': 1, \"heraf's\": 1, 'actions': 1, '\"crossed': 1, 'line': 1, 'bullying': 1, 'harassment,\"…': 1, 'https://t.co/uckcllduba': 1, 'hookups': 1, 'sign': 1, 'email': 2, 'credit': 1, 'simple…': 1, 'https://t.co/fhgfgyxxcm': 1, 'dog_rates': 1, 'zaffy': 1, 'likes': 2, 'relax': 1, 'pool': 1, 'blow': 1, 'bubbles': 1, 'incredibly': 1, 'advanced': 1, 'maneuver': 1, 'caught': 1, 'breaks': 1, 'slightest': 1, 'mcclure111': 1, 'structure': 1, 'program': 1, 'deleting': 1, 'code': 1, 'caoutcast': 1, 'corybooker': 1, \"what's\": 1, 'wrenching': 1, 'speech': 1, 'co…': 1, 'japan': 1, 'coronating': 1, 'naito': 1, 'fukuoka': 1, 'rather': 1, 'osaka': 1, 'optics': 1, 'cons…': 1, 'https://t.co/vnqsv2ty0r': 1, 'indiewashere': 1, \"they're\": 1, 'left': 2, 'https://t.co/e64cn51wat': 1, 'hot': 1, 'wings': 1, 'xicanitabonita': 1, 'inner': 1, 'https://t.co/vvnbcfxmj3': 1, 'darnold_szn': 1, '360ffb': 1, 'matters': 1, 'cook': 1, 'dalvin': 1, 'jared': 1, 'work': 2, 'passion😍': 1, 'https://t.co/ojeyufgjyo': 1, 'vanityjungkook': 1, 'bandana': 1, 'mf': 4, 'deadly': 1, 'combo': 1, 'kim': 2, 'https://t.co/d6cxzimw3s': 1, 'yanksgalaxy28': 1, 'kicked': 1, 'byyourlogic': 1, 'shinkawa': 1, 'sketch': 2, 'cool': 1, 'https://t.co/rfznyhrnzi': 1, 'nctsmtown_127': 1, 'nap': 1, 'la': 1, '🛫': 1, 'nct127_regular_irregular': 1, 'nct127': 1, '싱가포르항공': 1, 'singap…': 1, 'sarcasm_blood': 1, 'ruling_planet': 1, 'https://t.co/1iu04bq2lq': 1, 'gritzbrown': 1, 'bite': 1, 'burger': 1, 'nut': 1, 'shooting': 1, 'block': 1, 'https://t.co/acxnsqnnfa': 1, 'thisisntjavii': 1, 'faking': 1, 'sayin': 1, 'https://t.co/bfy7ttdeoy': 1, 'mnet101boys': 1, '181003': 1, '\"아임미미': 1, 'meme\"': 1, 'https://t.co/gbsnkh85lw': 1, 'https://t.co/…': 1, 'arfmeasures': 1, 'darth': 1, 'vader': 1, 'moth': 1, 'absolutely': 2, 'sweet___ash': 1, 'tough': 1, 'sing': 2, 'bet': 1, 'casause': 1, 'pewdiepie': 1, '👏merch': 1, '😤🛑9': 1, 'only🛑😤': 1, 'https://t.co/ihpuuwrnti': 1, 'https://t.co/fs9zcixmot': 1, 'kazzidailyy': 1, 'promise': 1, 'none': 1, 'nigga': 2, 'like!🤦🏼\\u200d♀️😭': 1, 'shitjokes': 1, 'school': 1, 'phoned': 1, '\"your': 1, \"son's\": 1, 'lies.\"': 1, '\"well': 1, 'bloody': 1, \"ain't…\": 1, 'janayvera': 1, 'manchild': 1, '💀😂': 1, 'https://t.co/brrtbbem03': 1, 'supernovalox': 1, 'brick': 1, 'spectacularly': 1, 'chrissyteigen': 1, 'john': 1, 'https://t.co/o1n40grvzc': 1, 'fusion': 1, 'neptuno': 1, '👼': 1, '🔗': 1, 'https://t.co/bp8bmgb2hu': 1, 'https://t.co/wrsgw6eyot': 1, '12:00am': 1, 'borschtsiouxp': 1, 'native': 1, '10x': 1, 'likely': 2, 'murdered': 1, 'ten': 2, 'ignorant': 2, 'ke…': 1, 'cosmicidle': 1, 'breathe': 1, 'lmfaooo': 1, 'https://t.co/rs4hrgmblc': 1, 'knew': 1, '😂😂': 1, 'fadhakaram': 1, 'shaahadnj': 1, 'thankyou💕': 1, 'hollygonightly1': 1, 'connections': 1, 'craigslist': 1, 'romantic': 1, 'novels': 1, 'https://t.co/m8hu2nfzfk': 1, 'freakyreplies': 1, 'jobs': 1, 'pay': 4, 'hardest': 1, '“let’s': 1, 'pace”': 1, 'let’s': 1, 'tina': 1, 'akiratotsuka': 1, '👑hatsune': 1, 'telekinetic': 1, 'telepathic': 1, 'teleportation': 1, 'tele-everything': 1, 'powers': 2, 'however': 1, 'almost…': 1, 'numeroun0': 1, 'https://t.co/v87egrfkz2': 1, 'currently': 1, '11°c': 1, '16°c': 1, 'kingdom': 1, 'mytholmroyd': 1, 'rolling': 1, 'nigga!😂': 1, 'ovorek': 1, 'having': 3, 'girlfriend': 1, 'prays': 1, 'cares': 1, 'loyal': 1, 'dickdrainer404': 1, 'https://t.co/ppzl4giyax': 1, 'armys__crew': 1, \"let's\": 2, 'break': 1, 'record': 1, 'korean': 1, 'grp': 1, 'eve…': 1, 'gxdhuncho': 1, 'acid': 1, 'trip': 1, 'https://t.co/evehi23pue': 1, 'aabidakbari': 1, 'typical': 1, 'greeting': 1, 'indianapolis': 1, 'https://t.co/iymu2yrq2p': 1, 'taylorj5697': 1, 'thoughtful': 1, 'girl!!😘😘': 1, 'cutekjdpics': 1, 'https://t.co/rvlq3lpetj': 1, 'itsjustyasmine': 1, 'chico': 1, '150': 1, '🐍♥️': 1, 'https://t.co/3gbwqiv9hj': 1, 'nourabooks1': 1, 'solve': 1, 'solving': 1, 'internal': 1, 'bringing': 1, 'surfa…': 1, 'daily': 1, 'unfollower': 1, 'crowdfire': 1, 'trick': 1, 'https://t.co/gvn7wleuwq': 1, 'producerknj': 1, 'together': 3, 'rlly': 1, 'beat': 2, 'asses': 1, 'https://t.co/oboekuwgtr': 1, 'bxgxshannon': 1, 'saksakcherry': 1, 'kirinjeu': 1, 'basically': 1, 'jeongchaengadv': 1, 'fact': 2, 'chaeyoung': 1, 'uwu': 1, 'https://t.co/ulojqiq72d': 1, 'bts_billboard': 1, 'mentioned': 2, 'account': 4, '44m': 1, 'mentions': 2, 'keeping': 1, '🔥…': 1, 'mrmadee': 1, 'thx': 1, 'wish': 1, 'sarkar': 1, 'rednationrising': 1, 'ocasio-cortez': 1, 'aims': 1, 'yhsdior': 1, 'rea': 1, 'https://t.co/zorngikzf1': 1, 'barbiefobia': 1, 'aren’t': 1, 'army': 2, 'ships': 1, 'enjoys': 1, 'interact': 1, 'boys': 2, 'others…': 1, 'kidrhinoboy': 1, 'commission': 1, '4all_gp': 1, 'dinosaurs': 1, 'fun': 1, 'dude': 3, 'https://t.co/hyheiz…': 1, 'titaeny': 1, 'forget': 2, 'https://t.co/hlr8ml…': 1, 'offense': 1, 'hits': 1, 'muster': 1, 'weak': 1, 'contact': 1, 'season': 2, 'oreojoker': 1, \"ain't\": 1, 'question': 1, 'spent': 1, 'db2trendy': 1, 'met': 1, 'brought': 1, 'comfort': 1, 'naturally': 1, 'instant…': 1, 'fx': 1, 'ea': 1, 'market': 1, 'winning': 1, 'genius…': 1, 'https://t.co/dd87d2wz6z': 1, 'pink_about_it': 1, 'feinstein': 1, '\"closely': 1, 'held\"': 1, 'fbi…': 1, 'nickysellers02': 1, 'jumping': 1, 'mountain': 1, 'bikes': 1, 'https://t.co/xjltggtaxk': 1, 'cespedesbbq': 1, 'theoutpost': 1, 'rulerofwind_sh': 1, 'handsome': 1, 'https://t.co/olpqg1ebgy': 1, 'livpsy': 1, 'strength': 2, 'reminds': 1, 'struggle': 2, 'slow': 1, 'lo…': 1, 'jkarn34': 1, 'mid-season': 1, 'highlights🎒': 1, '51': 1, 'total': 1, 'tackles': 1, 'ff': 1, 'fr': 1, 'qb': 2, 'hurries': 1, 'boe': 1, 'https://t.co/7eewalh3da': 1, 'https://t.co/jmwjdfqc3m': 1, 'actjisus': 1, 'male': 1, 'idol': 1, \"group's\": 1, 'among': 1, 'entries': 1, '24hrs': 1, 'melon': 1, 'listeners': 1, 'bigba…': 1, 'tae_taurus': 1, '💜': 1, 'kinseip': 1, 'riled': 1, 'controversial': 1, 'topics': 1, 'https://t.co/gdyntz12lm': 1, 'justin_blu1': 1, 'bill': 1, 'tip': 1, 'https://t.co/1pxrh2edvz': 1, 'e1': 1, 'p4': 1, 'daniel': 1, 'truth': 1, 'https://t.co/z528s34504': 1, 'wearing': 1, 'socks': 1, 'slides': 1, '💜💜💜💜': 1, 'superb': 1, '😄💜': 1, 'romanatwood': 1, 'https://t.co/nkxajntzh3': 1, 'digidriver': 1, 'https://t.co/bzjz290cif': 1, 'acbryhn': 1, 'ping': 1, 'aquaticphyto': 1, 'jeonsatellite': 1, 'anyways': 1, 'legendary': 1, 'future': 1, 'https://t.co/obacgfo6bh': 1, 'clearing': 1, '😕why': 1, 'swear': 1, \"she's\": 2, 'destined': 1, 'screen': 1, 'mommywifelife7': 1, 'purple': 1, 'lmfao': 2, 'jk': 1, 'legit': 2, 'https://t.co/6im4cnwq00': 1, 'cobatsart': 1, 'kay': 1, 'bowsette': 1, 'lust': 1, 'system….for': 1, 'how…': 1, 'juliedicaro': 1, 'mitchrosen670': 1, 'jamjampics': 1, 'https://t.co/qhwlma0h76': 1, 'agree': 1, 'threats': 1, '“white': 1, 'men.”': 1, 'eugenegu': 1, 'innocent': 2, 'standard': 1, 'justice': 1, 'rich': 1, 'white': 1, 'love_caesar': 1, 'shouldn’t': 1, 'kinfolk': 1, 'beaten': 1, 'abused': 1, 'tr…': 1, '🧐🧐🧐': 1, 'nicekicks': 1, \"nike's\": 1, '\"oil': 1, 'grey\"': 1, 'air': 1, 'deluxe': 1, 'spilled': 1, 'retail': 1, 'https://t.co/uir8f8ozew': 1, 'https://t.co/aq6wwetpwl': 1, 'specimen': 1, 'andrew_559': 1, '2nd': 2, 'phildarianmathi': 1, 'boot': 1, 'cajun🍽🍤': 1, 'letmeeat': 1, 'https://t.co/zgk9ynyiyv': 1, 'repadamschiff': 1, 'president': 1, 'modern': 1, 'presidential': 1, 'candidate': 1, 'refuse': 1, 'returns': 1, 'reneging': 1, 'promise…': 1, 'wmag': 1, 'karlie': 1, 'kloss': 1, 'skinny': 1, 'according': 2, 'modeling': 1, 'agents': 1, 'https://t.co/gwpsvlqnir': 1, 'weskhaliifa': 1, 'astronaut_do': 1, 'malicious': 1, \"actor's\": 1, 'sns': 1, \"you're\": 1, 'not…': 1, '😆': 1, 'thai': 1, 'https://t.co/wmlhejgoec': 1, 'zaharinaris': 1, '“beat': 1, 'plastic': 2, 'pollution”': 1, 'environment': 1, 'you…': 1, 'marveiousnature': 1, 'palace': 1, 'https://t.co/iom2wtaapd': 1, 'lower': 1, 'disabled': 1, 'reporter...yes': 1, 'https://t.co/uvmi8rrilf': 1, '🌅': 1, 'wednesday': 1, '🤓🤓': 1, 'humpday': 1, '💋✌️': 1, 'https://t.co/xjyywvzpwg': 1, 'chunbutera': 1, 'brandon_arreaga': 1, 'popping': 1, 'gc': 1, 'ilysm': 1, 'https://t.co/jy2mjxzqqo': 1, 'frankly': 1, 'gods': 1, 'stupidest': 1, 'administer': 1, 'coldervibes': 1, 'jaxxrivaro': 1, 'thiszer0': 1, 'superstonereco1': 1, '🙏': 1, 'mika': 1, 'defsoul271': 1, 'jyppleaseprotectmybambam': 1, 'prone': 1, 'attcked': 1, 'jackson': 1, 'jb': 1, 'bambam': 1, 'protect': 1, 'got7': 1, 'jyp': 1, 'prope…': 1, 'johnson_hendrix': 1, 'row': 1, 'culture': 1, 'changed': 1, 'https://t.co/gosi7f1vdk': 1, 'realmoneybaggyo': 1, 'vent': 2, 'ain’t': 1, 'ima': 1, '💔': 1, 'impulsively': 1, 'wee-wooing': 1, 'escape': 1, 'gwen': 1, 'stefani': 1, 'https://t.co/aq5ybwg6rt': 1, 'tedxuniversityofnevada': 1, 'eyes': 1, 'reznordelrey': 1, 'ive': 2, 'owned': 1, 'merch': 1, 'mgcmerch': 1, 'https://t.co/ldtpqtuowq': 1, 'cpec': 1, 'lahore': 1, 'abbtakk': 1, 'punjab': 1, 'cricket': 1, 'nawazsharif': 1, 'mike_zietsman': 1, 'statement,this': 1, 'administration': 1, 'refer': 1, 'rape,murder': 1, 'norm': 1, 'africa': 1, 'iamsashakae': 1, 'mental': 1, 'of…': 1, 'arunjaitley': 1, 'eam': 1, 'sushmaswaraj': 1, 'un': 1, 'general': 1, 'assembly': 1, 'address': 1, 'emphatically': 1, 'dislodged': 1, 'pakistan’s': 1, 'hypocritical': 1, 'role': 1, 'curbi…': 1, 'spotify': 1, 'got7official': 1, 'sweetest': 2, 'lullaby': 1, '😴💕': 1, 'teenparty': 1, 'playlist': 1, 'https://t.co/djaywete…': 1, 'dk': 1, 'sako': 1, 'aboutvirgos': 1, 'kissers': 1, 'lostboylawley': 1, 'kian': 1, 'lawley': 1, 'walkingeyebrows': 1, 'philippines': 1, 'couple': 1, 'considered': 1, 'worst': 2, 'dressed': 1, 'https://t.co/mfark…': 1, 'donaldbuffoon': 1, 'janet_yackle': 1, 'pajjr2016': 1, 'lindseygrahamsc': 1, 'we’re': 1, 'screwed': 1, 'romebyzantium': 1, 'mamertineprison': 1, 'originally': 1, 'cistern': 1, '500': 1, 'b.c': 1, 'belief': 1, 'apostles': 1, 'st.…': 1, 'dabgodfelix': 1, 'stray': 1, 'models': 1, 'https://t.co/17u1cyweqv': 1, 'ngaudiano': 1, 'confirmed': 1, 'recused': 1, 'watched': 1, 'scotus': 1, 'court…': 1, 'https://t.co/of6rswsibc': 1, 'fkajack': 1, 'vloggers': 1, 'https://t.co/nstkppgf2h': 1, 'agustdvee': 1, 'jdjdksks': 1, 'frame': 2, 'travel': 1, 'company': 1, 'myanmar': 1, 'scared': 1, '🤦🏽\\u200d♀️': 1, 'kingzyphree': 1, 'sent': 2, 'showering': 1, 'zero': 1, 'notifications': 1, 'leenamala93': 1, 'clothes': 1, 'jlnndcrs': 1, '“it': 1, 'sometimes”': 1, 'https://t.co/gaxt1prhh4': 1, 'jaasmingisel': 1, 'basket': 1, 'iankenyonnfl': 1, 'thomas': 1, 'sense': 1, 'kyles': 1, 'plan': 1, 'pursue…': 1, 'https://t.co/nlgz4bg1nc': 1, 'unfollowed': 1, 'picturesfoider': 1, 'facts': 1, 'https://t.co/rdd7irao2t': 1, 'followtrick_p0p': 1, 'retweets': 1, '🍨': 1, 'siga': 1, 'todos': 1, 'que': 1, 'fav': 1, 'esse': 1, 'tweet✔️': 1, 'haileybvbe': 1, 'tickled': 1, 'https://t.co/0yp2touadh': 1, 'polygon': 1, 'r': 1, 'bankruptcy': 1, 'auction': 1, 'cancelled': 1, 'set': 1, 'revival': 1, 'https://t.co/ou0rfe9ziq': 1, 'https://t.co/jjsoescel9': 1, 'volunteer': 1, 'delivers': 1, 'monthly': 1, 'meeting': 1, 'networking': 1, 'hear': 1, 'premiertaxuk': 1, 'https://t.co/4lf67auvmx': 1, 'sushant_kaushal': 1, '80years': 1, 'constable': 1, 'abdul': 1, 'suboor': 1, 'dharna': 1, 'delhi': 1, 'kejriwal': 1, 'meet': 1, '2.5': 1, 'camren_boo': 1, 'havana': 1, 'https://t.co/kwupyvgw14': 1, 'betoorourke': 1, '254': 1, 'counties': 1, 'texas': 1, 'defined': 1, 'fears': 1, 'bu…': 1, 'bajanshvm': 1, '😩😂': 1, 'https://t.co/xwwyy1krai': 1, 'alxssarowe': 1, 'selfies': 1, 'quickies': 1, 'https://t.co/9eny410v3m': 1, 'johncardillo': 1, 'pathetic': 1, 'schmuck': 1, 'tuck': 1, 'tail': 1, 'required': 1, 'bravery': 1, 'papertiger': 1, 'depressing': 1, 'pluckers': 1, 'near': 1, 'crave': 1, 'lance': 1, \"dancin'\": 1, '🕺': 1, 'https://t.co/b1ihxbejyk': 1, 'airos_allie26': 1, 'pass': 1, 'lives': 1, 'shorter': 1, 'hoped': 1, 'teach': 1, 'ta…': 1, 'concert': 1, 'crabby': 1, 'patty': 1, 'formula': 1, 'alexarodrigguez': 1, 'far': 1, 'p.155': 1, 'once': 1, 'patent': 2, 'established': 1, 'legal': 1, 'costs': 1, 'successfully': 1, 'capitalized': 1, 'https://t.co/fcrsswpbpo': 1, 'bluffy04': 1, 'phone': 3, 'straightest': 1, 'shes': 1, 'porn': 1, 'syennawelch': 1, '10/10': 1, 'camera': 1, 'https://t.co/eui1imsbzp': 1, \"who's\": 1, 'cider👀': 1, 'thinks': 1, 'distance': 1, 'reflex': 1, 'shirou': 1, 'straighter': 1, 'https://t.co/yk4jzqun7v': 1, 'brady': 1, 'hoke': 1, 'beside': 1, 'himself': 1, 'kevinprobably': 1, 'tuesday': 1, 'd…': 1, 'https://t.co/v6wql9vxrn': 1, 'donuts': 1, '1dbd0b94-2282-4603-9e5a-8f809a7b072a': 1, 'shanedawson': 1, 'tea': 1, 'censoring': 1, 'pissed': 1, 'people…': 1, 'uddyrfc': 1, 'xv': 1, 'rugby': 1, '6th': 1, 'https://t.co/7umr0f9joh': 1, 'pinknews': 1, 'dads': 1, '👨\\u200d👨\\u200d👧\\u200d👦': 1, 'https://t.co/xozdtgtzgh': 1, 'francishsie': 1, 'learnt': 1, 'western': 1, 'bruce': 1, 'wayne': 1, 'https://t.co/6lhnumdp1l': 1, 'popping_poppe': 1, 'maddiepoppe': 1, 'americanidol': 1, 'calebleemusic': 1, 'hashtagcatie': 1, 'gabbybarrett': 1, 'cadefoehner': 1, 'rude': 1, 'amonickk': 1, 'exam': 1, 'https://t.co/bpdwcfygwi': 1, '04:58': 1, 'michaelavenatti': 1, 'urgent': 1, 'below': 1, 'declaration': 1, 'anoth…': 1, 'showdown': 1, 'intense': 1, 'https://t.co/xipcm5k4bz': 1, 'itsposttmalone': 1, 'version': 1, 'closes': 1, 'thursday': 1, 'https://t.co/oadvrjh…': 1, 'wbellauthor': 1, 'seabees': 1, 'fierce': 1, 'vietcong': 1, 'asphalt': 1, 'blood': 1, 'https://t.co/ie4gitwnhr': 1, 'vietnam': 1, 'adventure': 1, 'asms…': 1, 'inktober': 3, 'drawing': 1, 'kamenrider': 1, 'fanart': 1, 'ink': 1, 'miniso': 1, 'anatomy': 1, 'learning': 1, 'https://t.co/kyednbhi4u': 1, 'aneminue': 1, 'mushroom': 1, 'bby': 1, 'lots': 3, 'yuzuruhanyu': 1, '羽生結弦': 1, 'inktober2018': 1, 'mentalhealthfn': 1, 'few': 1, 'anxiety': 1, 'causes': 1, 'panic': 1, 'attacks': 1, 'trouble': 1, 'breathing': 1, 'intrusive': 1, 'thoughts': 1, 'constant': 1, 'guilt': 1, 'consta…': 1, 'nineinchbride': 1, 'julianassange': 1, 'https://t.co/vxtqliz6fl': 1, 'absence': 1, 'meaningful': 1, 'movement-building': 1, 'pressure': 1, 'persecut…': 1, 'armastrangelo': 1, 'julie': 1, 'swetnick': 1, 'signed': 1, 'sworn': 1, 'affidavit': 1, 'commit': 1, '“gang': 1, 'rape\"': 1, 'bac…': 1, 'ultimaterpe': 1, 'gahyeon': 1, 'missmissax': 1, 'feels': 1, 'pt.1': 1, 'missjessarhodes': 1, 'alittlewolfe': 1, 'zacwildxxx': 1, 'https://t.co/lpiozruyfe': 1, 'https://t.co/ws8jejfyle': 1, 'hat,cultural': 1, 'appropriation.racist': 1, 'dems': 1, 'dominos_india': 1, 'dominos': 1, 'gotten': 1, 'refund': 1, 'screenshot': 1, 'false': 1, 'promis…': 1, 'https://t.co/hq1wkjpkql': 1, 'lilagracerose': 1, 'promised': 1, 'ending': 1, 'planned': 1, 'parenthood': 1, 'funding': 1, 'priority': 1, 'congress': 1, 'sen…': 1, 'facepalming': 1, 'bruh': 1, 'https://t.co/n8txo4rumz': 1, 'tomilahren': 1, 'crooked': 1, 'hillary': 1, 'foxandfriends': 1, 'https://t.co/dxfscz2bcl': 1, 'flirtlust': 1, 'feelings': 1, 'hanging': 1, 'https://t.co/40l2gxcf0m': 1, 'shanakascore': 1, 'https://t.co/jg2ilawpak': 1, 'godzillasheart': 1, 'adela__h': 1, 'khurrammki': 1, 'ohsoyoumel': 1, 'mariumali': 1, 'states': 1, \"aren't\": 1, 'america..…': 1, 'https://t.co/a4glbqcwef': 1, 'alessabobby': 1, 'https://t.co/qetqvv98km': 1, 'baeughhh': 1, 'guess': 1, 'crush': 1, 'found': 1, 'https://t.co/b6b91fczy3': 1, 'ariliest': 1, 'broke': 2, 'hella': 1, 'cashapp': 1, 'attention': 1, 'naaadmd': 1, 'whenever': 1, 'stops': 1, 'biceps': 1, 'just...🙃😩': 1, 'https://t.co/vgz4nvyzlx': 1, 'cubsgirl23': 1, 'outdoor': 1, 'cat': 1, 'sound': 1, 'asleep': 1, 'https://t.co/tcmbrqwd8h': 1, 'chohan1954': 1, 'vikramwkarve': 1, 'satishbahri': 1, 'kayjay34350': 1, 'brigtejinder': 1, 'cmseth1': 1, 'coenesqued': 1, \"g'nite\": 1, 'https://t.co/r9r3tkbr2y': 1, 'alright': 1, '\"my': 1, 'tan-colored': 1, 'wool': 1, 'yellow': 1, 'blouse': 1, '\"': 1, 'rosa-p.86': 1, 'footage': 1, 'leaks': 1, 'mysterious': 1, 'harry': 1, 'potter': 1, 'rpg': 1, 'https://t.co/dvqpdgo2fv': 1, 'https://t.co/widynfso5j': 1, 'nah': 1, '🎾': 1, 'https://t.co/6etumz2nhm': 1, 'btsarmystats': 1, '44.1m': 1, 'wild': 1, '🤯': 1, 'themusicvideo': 1, 'ido…': 1, 'peterpandam': 1, 'khezzu': 1, 'team__spirit': 1, 'nipgaming': 1, 'talkin': 1, 'brendandagawd': 1, 'https://t.co/wyuejpt0zu': 1, 'spreading': 1, 'propaganda': 1, 'jimmyfallon': 1, '💜💜💜💜💜💜💜': 1, 'fallontonight': 1, 'https://t.co/x4qomzdyh6': 1, 'willis_cj': 1, 'randomly': 1, 'bouta': 1, 'https://t.co/kphbfsqed2': 1, 'https://t.co/64h5lljagb': 1, 'roboticcrab': 1, 'logfromblammo': 1, 'octopus': 1, '🐙': 1, 'rethink': 1, 'facebook': 1, 'https://t.co/4iqymib8ww': 1, 'figure': 1, 'ravaged': 1, 'a**hole': 1, 'babysnitchery': 1, 'academia': 1, 'bakugo': 1, 'travelcambodia2': 1, 'siemreap': 2, 'dining': 1, 'restaurant': 1, 'drinking': 1, 'organic': 1, 'rum': 1, 'artisan': 1, 'cock…': 1, 'seagg-brily': 1, 'respectrmbts1': 1, 'btsvotingteam': 1, 'plizzzz': 1, 'k-army': 1, 'aoty': 1, 'tooo': 1, 'nd': 1, 'daoty': 1, 'vietjikook': 1, 'kind': 1, 'https://t.co/kdy7qpc1tw': 1, 'milking': 1, 'maxboot': 1, 'russians': 1, 'helping': 1, 'republicans': 1, 'https://t.co/v62irbpmys': 1, 'samg_221b': 1, 'thetruthuntold': 1, 'powervocals': 1, 'btsxchicago': 1, 'themanisagod': 1, 'valderman1': 1, 'jerianncaines': 1, 'rcsdstoneridge': 1, 'room': 1, 'ready': 1, 'roll': 1, 'creating': 1, 'masterpiece': 1, 'https://t.co/pvxsjdvoa1': 1, 'soniafurstenau': 1, 'ignores': 1, 'research': 1, 'claiming': 1, 'latest': 1, 'resear…': 1, 'https://t.co/xhxzxu7pze': 1, 'cosplayers': 1, 'remember': 1, 'https://t.co/zfriisiqwf': 1, 'voicesofyouth': 1, '👏👏👏': 1, 'unga': 1, 'btsxunitednations': 1, 'genunlimited': 1, 'youth2030…': 1, 'youmethoughts': 1, 'mainedcm': 1, 'are.❤️': 1, 'maineforpreview': 1, 'https://t.co/dfoglmtegv': 1}\n"
     ]
    }
   ],
   "source": [
    "ex_6 = english(dictionary)\n",
    "print('Частотный словарь: ', ex_6)"
   ]
  },
  {
   "cell_type": "markdown",
   "metadata": {},
   "source": [
    "#### Задание 7"
   ]
  },
  {
   "cell_type": "markdown",
   "metadata": {},
   "source": [
    "##### Функция находит авторов твитов, количество их подписчиков и выделяет топ-10 самых популярных"
   ]
  },
  {
   "cell_type": "code",
   "execution_count": 104,
   "metadata": {},
   "outputs": [],
   "source": [
    "def followers(dictionary):\n",
    "    foll = {}\n",
    "    for string in dictionary:\n",
    "        try:\n",
    "            us = string[\"user\"]\n",
    "            foll[us[\"screen_name\"]] = us[\"followers_count\"]\n",
    "        except KeyError:\n",
    "            pass\n",
    "    ten = collections.Counter(foll).most_common(10)\n",
    "    return ten"
   ]
  },
  {
   "cell_type": "markdown",
   "metadata": {},
   "source": [
    "##### Результат"
   ]
  },
  {
   "cell_type": "code",
   "execution_count": 105,
   "metadata": {},
   "outputs": [
    {
     "name": "stdout",
     "output_type": "stream",
     "text": [
      "Топ-10 самых популярных авторов:\n",
      "FIL0S0FIA - 2521403 подписчик(а/ов)\n",
      "FitnessMagazine - 1491309 подписчик(а/ов)\n",
      "malaysiakini - 1206759 подписчик(а/ов)\n",
      "NYTScience - 1137374 подписчик(а/ов)\n",
      "GramaticaReal - 625463 подписчик(а/ов)\n",
      "tgrthabertv - 392472 подписчик(а/ов)\n",
      "TheSunFootball - 383698 подписчик(а/ов)\n",
      "Melbourne - 374222 подписчик(а/ов)\n",
      "Roznama_Express - 318189 подписчик(а/ов)\n",
      "burger_boogie - 311319 подписчик(а/ов)\n"
     ]
    }
   ],
   "source": [
    "ex_7 = followers(dictionary)\n",
    "print('Топ-10 самых популярных авторов:')\n",
    "for x in ex_7:\n",
    "    print(x[0], '-', x[1], 'подписчик(а/ов)')"
   ]
  },
  {
   "cell_type": "code",
   "execution_count": null,
   "metadata": {},
   "outputs": [],
   "source": []
  }
 ],
 "metadata": {
  "kernelspec": {
   "display_name": "Python 3",
   "language": "python",
   "name": "python3"
  },
  "language_info": {
   "codemirror_mode": {
    "name": "ipython",
    "version": 3
   },
   "file_extension": ".py",
   "mimetype": "text/x-python",
   "name": "python",
   "nbconvert_exporter": "python",
   "pygments_lexer": "ipython3",
   "version": "3.7.4"
  }
 },
 "nbformat": 4,
 "nbformat_minor": 2
}
